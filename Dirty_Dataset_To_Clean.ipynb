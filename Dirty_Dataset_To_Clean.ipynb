{
 "cells": [
  {
   "cell_type": "markdown",
   "id": "f1ec3624-340b-4145-b52b-ce15a119047a",
   "metadata": {},
   "source": [
    "# Introduction\n",
    "\n",
    "The goal of this project is to practice cleaning a dataset. Data cleaning is a critical step in data science, ensuring that raw data is properly prepared for deeper analysis. In this project, we'll focus on identifying and correcting errors, handling missing values, and standardizing the data to ensure its quality and consistency. The dataset used in this project was sourced from Kaggle, providing a real-world example to apply these essential data cleaning techniques.\n"
   ]
  },
  {
   "cell_type": "code",
   "execution_count": 1,
   "id": "ed5b36a8-7076-4e65-84ff-339ccb5d2088",
   "metadata": {},
   "outputs": [],
   "source": [
    "import pandas as pd\n",
    "import seaborn as sns \n",
    "import matplotlib.pyplot as plt"
   ]
  },
  {
   "cell_type": "code",
   "execution_count": 2,
   "id": "f44d21b8-6faa-4819-aa61-4e389e0ae5fe",
   "metadata": {},
   "outputs": [],
   "source": [
    "df = pd.read_csv('Dataset/Wine_Quality.csv')"
   ]
  },
  {
   "cell_type": "code",
   "execution_count": 3,
   "id": "cd59776b-d50d-470a-9ef9-23793a2d40bd",
   "metadata": {},
   "outputs": [
    {
     "data": {
      "text/html": [
       "<div>\n",
       "<style scoped>\n",
       "    .dataframe tbody tr th:only-of-type {\n",
       "        vertical-align: middle;\n",
       "    }\n",
       "\n",
       "    .dataframe tbody tr th {\n",
       "        vertical-align: top;\n",
       "    }\n",
       "\n",
       "    .dataframe thead th {\n",
       "        text-align: right;\n",
       "    }\n",
       "</style>\n",
       "<table border=\"1\" class=\"dataframe\">\n",
       "  <thead>\n",
       "    <tr style=\"text-align: right;\">\n",
       "      <th></th>\n",
       "      <th>type</th>\n",
       "      <th>fixed acidity</th>\n",
       "      <th>volatile acidity</th>\n",
       "      <th>citric acid</th>\n",
       "      <th>residual sugar</th>\n",
       "      <th>chlorides</th>\n",
       "      <th>free sulfur dioxide</th>\n",
       "      <th>total sulfur dioxide</th>\n",
       "      <th>density</th>\n",
       "      <th>pH</th>\n",
       "      <th>sulphates</th>\n",
       "      <th>alcohol</th>\n",
       "      <th>quality</th>\n",
       "    </tr>\n",
       "  </thead>\n",
       "  <tbody>\n",
       "    <tr>\n",
       "      <th>0</th>\n",
       "      <td>white</td>\n",
       "      <td>7.0</td>\n",
       "      <td>0.27</td>\n",
       "      <td>0.36</td>\n",
       "      <td>20.7</td>\n",
       "      <td>0.045</td>\n",
       "      <td>45.0</td>\n",
       "      <td>170.0</td>\n",
       "      <td>1.0010</td>\n",
       "      <td>3.00</td>\n",
       "      <td>0.45</td>\n",
       "      <td>8.8</td>\n",
       "      <td>6</td>\n",
       "    </tr>\n",
       "    <tr>\n",
       "      <th>1</th>\n",
       "      <td>white</td>\n",
       "      <td>6.3</td>\n",
       "      <td>0.30</td>\n",
       "      <td>0.34</td>\n",
       "      <td>1.6</td>\n",
       "      <td>0.049</td>\n",
       "      <td>14.0</td>\n",
       "      <td>132.0</td>\n",
       "      <td>0.9940</td>\n",
       "      <td>3.30</td>\n",
       "      <td>0.49</td>\n",
       "      <td>9.5</td>\n",
       "      <td>6</td>\n",
       "    </tr>\n",
       "    <tr>\n",
       "      <th>2</th>\n",
       "      <td>white</td>\n",
       "      <td>8.1</td>\n",
       "      <td>0.28</td>\n",
       "      <td>0.40</td>\n",
       "      <td>6.9</td>\n",
       "      <td>0.050</td>\n",
       "      <td>30.0</td>\n",
       "      <td>97.0</td>\n",
       "      <td>0.9951</td>\n",
       "      <td>3.26</td>\n",
       "      <td>0.44</td>\n",
       "      <td>10.1</td>\n",
       "      <td>6</td>\n",
       "    </tr>\n",
       "    <tr>\n",
       "      <th>3</th>\n",
       "      <td>white</td>\n",
       "      <td>7.2</td>\n",
       "      <td>0.23</td>\n",
       "      <td>0.32</td>\n",
       "      <td>8.5</td>\n",
       "      <td>0.058</td>\n",
       "      <td>47.0</td>\n",
       "      <td>186.0</td>\n",
       "      <td>0.9956</td>\n",
       "      <td>3.19</td>\n",
       "      <td>0.40</td>\n",
       "      <td>9.9</td>\n",
       "      <td>6</td>\n",
       "    </tr>\n",
       "    <tr>\n",
       "      <th>4</th>\n",
       "      <td>white</td>\n",
       "      <td>7.2</td>\n",
       "      <td>0.23</td>\n",
       "      <td>0.32</td>\n",
       "      <td>8.5</td>\n",
       "      <td>0.058</td>\n",
       "      <td>47.0</td>\n",
       "      <td>186.0</td>\n",
       "      <td>0.9956</td>\n",
       "      <td>3.19</td>\n",
       "      <td>0.40</td>\n",
       "      <td>9.9</td>\n",
       "      <td>6</td>\n",
       "    </tr>\n",
       "  </tbody>\n",
       "</table>\n",
       "</div>"
      ],
      "text/plain": [
       "    type  fixed acidity  volatile acidity  citric acid  residual sugar  \\\n",
       "0  white            7.0              0.27         0.36            20.7   \n",
       "1  white            6.3              0.30         0.34             1.6   \n",
       "2  white            8.1              0.28         0.40             6.9   \n",
       "3  white            7.2              0.23         0.32             8.5   \n",
       "4  white            7.2              0.23         0.32             8.5   \n",
       "\n",
       "   chlorides  free sulfur dioxide  total sulfur dioxide  density    pH  \\\n",
       "0      0.045                 45.0                 170.0   1.0010  3.00   \n",
       "1      0.049                 14.0                 132.0   0.9940  3.30   \n",
       "2      0.050                 30.0                  97.0   0.9951  3.26   \n",
       "3      0.058                 47.0                 186.0   0.9956  3.19   \n",
       "4      0.058                 47.0                 186.0   0.9956  3.19   \n",
       "\n",
       "   sulphates  alcohol  quality  \n",
       "0       0.45      8.8        6  \n",
       "1       0.49      9.5        6  \n",
       "2       0.44     10.1        6  \n",
       "3       0.40      9.9        6  \n",
       "4       0.40      9.9        6  "
      ]
     },
     "execution_count": 3,
     "metadata": {},
     "output_type": "execute_result"
    }
   ],
   "source": [
    "df.head()"
   ]
  },
  {
   "cell_type": "code",
   "execution_count": 4,
   "id": "244c548c-a974-4157-8f6c-44d69dff737e",
   "metadata": {},
   "outputs": [
    {
     "name": "stdout",
     "output_type": "stream",
     "text": [
      "<class 'pandas.core.frame.DataFrame'>\n",
      "RangeIndex: 6497 entries, 0 to 6496\n",
      "Data columns (total 13 columns):\n",
      " #   Column                Non-Null Count  Dtype  \n",
      "---  ------                --------------  -----  \n",
      " 0   type                  6497 non-null   object \n",
      " 1   fixed acidity         6487 non-null   float64\n",
      " 2   volatile acidity      6489 non-null   float64\n",
      " 3   citric acid           6494 non-null   float64\n",
      " 4   residual sugar        6495 non-null   float64\n",
      " 5   chlorides             6495 non-null   float64\n",
      " 6   free sulfur dioxide   6497 non-null   float64\n",
      " 7   total sulfur dioxide  6497 non-null   float64\n",
      " 8   density               6497 non-null   float64\n",
      " 9   pH                    6488 non-null   float64\n",
      " 10  sulphates             6493 non-null   float64\n",
      " 11  alcohol               6497 non-null   float64\n",
      " 12  quality               6497 non-null   int64  \n",
      "dtypes: float64(11), int64(1), object(1)\n",
      "memory usage: 660.0+ KB\n"
     ]
    }
   ],
   "source": [
    "df.info()"
   ]
  },
  {
   "cell_type": "code",
   "execution_count": 14,
   "id": "ace7c500-6ffc-42cf-aa8b-b6d66b342763",
   "metadata": {},
   "outputs": [],
   "source": [
    "memory_usage = df.memory_usage(deep=True)\n",
    "total_memory_usage = memory_usage.sum()"
   ]
  },
  {
   "cell_type": "code",
   "execution_count": 15,
   "id": "ca4311fd-814b-4ea7-85f7-316540b3d713",
   "metadata": {},
   "outputs": [
    {
     "data": {
      "text/plain": [
       "971484"
      ]
     },
     "execution_count": 15,
     "metadata": {},
     "output_type": "execute_result"
    }
   ],
   "source": [
    "total_memory_usage"
   ]
  },
  {
   "cell_type": "code",
   "execution_count": 5,
   "id": "03e4c5a4-56f1-4477-b91a-48d540c3713c",
   "metadata": {},
   "outputs": [
    {
     "data": {
      "text/html": [
       "<div>\n",
       "<style scoped>\n",
       "    .dataframe tbody tr th:only-of-type {\n",
       "        vertical-align: middle;\n",
       "    }\n",
       "\n",
       "    .dataframe tbody tr th {\n",
       "        vertical-align: top;\n",
       "    }\n",
       "\n",
       "    .dataframe thead th {\n",
       "        text-align: right;\n",
       "    }\n",
       "</style>\n",
       "<table border=\"1\" class=\"dataframe\">\n",
       "  <thead>\n",
       "    <tr style=\"text-align: right;\">\n",
       "      <th></th>\n",
       "      <th>fixed acidity</th>\n",
       "      <th>volatile acidity</th>\n",
       "      <th>citric acid</th>\n",
       "      <th>residual sugar</th>\n",
       "      <th>chlorides</th>\n",
       "      <th>free sulfur dioxide</th>\n",
       "      <th>total sulfur dioxide</th>\n",
       "      <th>density</th>\n",
       "      <th>pH</th>\n",
       "      <th>sulphates</th>\n",
       "      <th>alcohol</th>\n",
       "      <th>quality</th>\n",
       "    </tr>\n",
       "  </thead>\n",
       "  <tbody>\n",
       "    <tr>\n",
       "      <th>count</th>\n",
       "      <td>6487.000000</td>\n",
       "      <td>6489.000000</td>\n",
       "      <td>6494.000000</td>\n",
       "      <td>6495.000000</td>\n",
       "      <td>6495.000000</td>\n",
       "      <td>6497.000000</td>\n",
       "      <td>6497.000000</td>\n",
       "      <td>6497.000000</td>\n",
       "      <td>6488.000000</td>\n",
       "      <td>6493.000000</td>\n",
       "      <td>6497.000000</td>\n",
       "      <td>6497.000000</td>\n",
       "    </tr>\n",
       "    <tr>\n",
       "      <th>mean</th>\n",
       "      <td>7.216579</td>\n",
       "      <td>0.339691</td>\n",
       "      <td>0.318722</td>\n",
       "      <td>5.444326</td>\n",
       "      <td>0.056042</td>\n",
       "      <td>30.525319</td>\n",
       "      <td>115.744574</td>\n",
       "      <td>0.994697</td>\n",
       "      <td>3.218395</td>\n",
       "      <td>0.531215</td>\n",
       "      <td>10.491801</td>\n",
       "      <td>5.818378</td>\n",
       "    </tr>\n",
       "    <tr>\n",
       "      <th>std</th>\n",
       "      <td>1.296750</td>\n",
       "      <td>0.164649</td>\n",
       "      <td>0.145265</td>\n",
       "      <td>4.758125</td>\n",
       "      <td>0.035036</td>\n",
       "      <td>17.749400</td>\n",
       "      <td>56.521855</td>\n",
       "      <td>0.002999</td>\n",
       "      <td>0.160748</td>\n",
       "      <td>0.148814</td>\n",
       "      <td>1.192712</td>\n",
       "      <td>0.873255</td>\n",
       "    </tr>\n",
       "    <tr>\n",
       "      <th>min</th>\n",
       "      <td>3.800000</td>\n",
       "      <td>0.080000</td>\n",
       "      <td>0.000000</td>\n",
       "      <td>0.600000</td>\n",
       "      <td>0.009000</td>\n",
       "      <td>1.000000</td>\n",
       "      <td>6.000000</td>\n",
       "      <td>0.987110</td>\n",
       "      <td>2.720000</td>\n",
       "      <td>0.220000</td>\n",
       "      <td>8.000000</td>\n",
       "      <td>3.000000</td>\n",
       "    </tr>\n",
       "    <tr>\n",
       "      <th>25%</th>\n",
       "      <td>6.400000</td>\n",
       "      <td>0.230000</td>\n",
       "      <td>0.250000</td>\n",
       "      <td>1.800000</td>\n",
       "      <td>0.038000</td>\n",
       "      <td>17.000000</td>\n",
       "      <td>77.000000</td>\n",
       "      <td>0.992340</td>\n",
       "      <td>3.110000</td>\n",
       "      <td>0.430000</td>\n",
       "      <td>9.500000</td>\n",
       "      <td>5.000000</td>\n",
       "    </tr>\n",
       "    <tr>\n",
       "      <th>50%</th>\n",
       "      <td>7.000000</td>\n",
       "      <td>0.290000</td>\n",
       "      <td>0.310000</td>\n",
       "      <td>3.000000</td>\n",
       "      <td>0.047000</td>\n",
       "      <td>29.000000</td>\n",
       "      <td>118.000000</td>\n",
       "      <td>0.994890</td>\n",
       "      <td>3.210000</td>\n",
       "      <td>0.510000</td>\n",
       "      <td>10.300000</td>\n",
       "      <td>6.000000</td>\n",
       "    </tr>\n",
       "    <tr>\n",
       "      <th>75%</th>\n",
       "      <td>7.700000</td>\n",
       "      <td>0.400000</td>\n",
       "      <td>0.390000</td>\n",
       "      <td>8.100000</td>\n",
       "      <td>0.065000</td>\n",
       "      <td>41.000000</td>\n",
       "      <td>156.000000</td>\n",
       "      <td>0.996990</td>\n",
       "      <td>3.320000</td>\n",
       "      <td>0.600000</td>\n",
       "      <td>11.300000</td>\n",
       "      <td>6.000000</td>\n",
       "    </tr>\n",
       "    <tr>\n",
       "      <th>max</th>\n",
       "      <td>15.900000</td>\n",
       "      <td>1.580000</td>\n",
       "      <td>1.660000</td>\n",
       "      <td>65.800000</td>\n",
       "      <td>0.611000</td>\n",
       "      <td>289.000000</td>\n",
       "      <td>440.000000</td>\n",
       "      <td>1.038980</td>\n",
       "      <td>4.010000</td>\n",
       "      <td>2.000000</td>\n",
       "      <td>14.900000</td>\n",
       "      <td>9.000000</td>\n",
       "    </tr>\n",
       "  </tbody>\n",
       "</table>\n",
       "</div>"
      ],
      "text/plain": [
       "       fixed acidity  volatile acidity  citric acid  residual sugar  \\\n",
       "count    6487.000000       6489.000000  6494.000000     6495.000000   \n",
       "mean        7.216579          0.339691     0.318722        5.444326   \n",
       "std         1.296750          0.164649     0.145265        4.758125   \n",
       "min         3.800000          0.080000     0.000000        0.600000   \n",
       "25%         6.400000          0.230000     0.250000        1.800000   \n",
       "50%         7.000000          0.290000     0.310000        3.000000   \n",
       "75%         7.700000          0.400000     0.390000        8.100000   \n",
       "max        15.900000          1.580000     1.660000       65.800000   \n",
       "\n",
       "         chlorides  free sulfur dioxide  total sulfur dioxide      density  \\\n",
       "count  6495.000000          6497.000000           6497.000000  6497.000000   \n",
       "mean      0.056042            30.525319            115.744574     0.994697   \n",
       "std       0.035036            17.749400             56.521855     0.002999   \n",
       "min       0.009000             1.000000              6.000000     0.987110   \n",
       "25%       0.038000            17.000000             77.000000     0.992340   \n",
       "50%       0.047000            29.000000            118.000000     0.994890   \n",
       "75%       0.065000            41.000000            156.000000     0.996990   \n",
       "max       0.611000           289.000000            440.000000     1.038980   \n",
       "\n",
       "                pH    sulphates      alcohol      quality  \n",
       "count  6488.000000  6493.000000  6497.000000  6497.000000  \n",
       "mean      3.218395     0.531215    10.491801     5.818378  \n",
       "std       0.160748     0.148814     1.192712     0.873255  \n",
       "min       2.720000     0.220000     8.000000     3.000000  \n",
       "25%       3.110000     0.430000     9.500000     5.000000  \n",
       "50%       3.210000     0.510000    10.300000     6.000000  \n",
       "75%       3.320000     0.600000    11.300000     6.000000  \n",
       "max       4.010000     2.000000    14.900000     9.000000  "
      ]
     },
     "execution_count": 5,
     "metadata": {},
     "output_type": "execute_result"
    }
   ],
   "source": [
    "df.describe()"
   ]
  },
  {
   "cell_type": "code",
   "execution_count": 6,
   "id": "7fa75a8a-ecb8-4755-b71e-6e40bee3203b",
   "metadata": {},
   "outputs": [
    {
     "data": {
      "text/plain": [
       "(6497, 13)"
      ]
     },
     "execution_count": 6,
     "metadata": {},
     "output_type": "execute_result"
    }
   ],
   "source": [
    "df.shape"
   ]
  },
  {
   "cell_type": "markdown",
   "id": "69917a39-43a5-42a3-849d-cb1520c61ad6",
   "metadata": {},
   "source": [
    "## 1. Dealing with Missing Data "
   ]
  },
  {
   "cell_type": "markdown",
   "id": "9350f00d-3f20-4148-9580-cbd7ea3ed218",
   "metadata": {},
   "source": [
    "The first step in this project is to focus on handling missing data. Missing values can distort analysis and lead to inaccurate conclusions, so it's crucial to identify and address them early in the data cleaning process."
   ]
  },
  {
   "cell_type": "code",
   "execution_count": 7,
   "id": "8504e9ce-81eb-4c42-8798-8b28eced22b8",
   "metadata": {},
   "outputs": [
    {
     "data": {
      "text/plain": [
       "type                     0\n",
       "fixed acidity           10\n",
       "volatile acidity         8\n",
       "citric acid              3\n",
       "residual sugar           2\n",
       "chlorides                2\n",
       "free sulfur dioxide      0\n",
       "total sulfur dioxide     0\n",
       "density                  0\n",
       "pH                       9\n",
       "sulphates                4\n",
       "alcohol                  0\n",
       "quality                  0\n",
       "dtype: int64"
      ]
     },
     "execution_count": 7,
     "metadata": {},
     "output_type": "execute_result"
    }
   ],
   "source": [
    "df.isna().sum()"
   ]
  },
  {
   "cell_type": "code",
   "execution_count": 8,
   "id": "f6b3731b-3004-4b6f-9e9f-69a0d96db341",
   "metadata": {},
   "outputs": [],
   "source": [
    "max_missing_values = len(df)*0.05"
   ]
  },
  {
   "cell_type": "code",
   "execution_count": 9,
   "id": "69f1c207-1520-47e3-9ea7-3d6c1e7c33ea",
   "metadata": {},
   "outputs": [
    {
     "data": {
      "text/plain": [
       "324.85"
      ]
     },
     "execution_count": 9,
     "metadata": {},
     "output_type": "execute_result"
    }
   ],
   "source": [
    "max_missing_values"
   ]
  },
  {
   "cell_type": "markdown",
   "id": "cb3e0682-2fe9-4ecd-afea-f85316c4c7bd",
   "metadata": {},
   "source": [
    "We will delete all rows where more than 5% of the values are missing, which equates to approximately 325.85 entries. This approach helps ensure that the dataset remains robust and that the analysis is based on sufficiently complete records. By removing these incomplete rows, we aim to improve the overall quality of our data for subsequent analyses."
   ]
  },
  {
   "cell_type": "code",
   "execution_count": 10,
   "id": "06108730-1e14-4e17-958d-759a57cdbf63",
   "metadata": {},
   "outputs": [],
   "source": [
    "columns_to_check = df.columns[(df.isna().sum() < max_missing_values) & (df.isna().sum() > 0)]\n"
   ]
  },
  {
   "cell_type": "code",
   "execution_count": 11,
   "id": "5d007777-bf72-4918-be25-d696905019d2",
   "metadata": {},
   "outputs": [
    {
     "data": {
      "text/plain": [
       "Index(['fixed acidity', 'volatile acidity', 'citric acid', 'residual sugar',\n",
       "       'chlorides', 'pH', 'sulphates'],\n",
       "      dtype='object')"
      ]
     },
     "execution_count": 11,
     "metadata": {},
     "output_type": "execute_result"
    }
   ],
   "source": [
    "columns_to_check"
   ]
  },
  {
   "cell_type": "code",
   "execution_count": 12,
   "id": "62205524-f850-4cb6-8015-e1dd3a466209",
   "metadata": {},
   "outputs": [],
   "source": [
    "df_filtered = df.dropna(subset=columns_to_check)"
   ]
  },
  {
   "cell_type": "code",
   "execution_count": 13,
   "id": "faea837e-74dd-4976-9c6a-73c001833a6c",
   "metadata": {},
   "outputs": [
    {
     "data": {
      "text/plain": [
       "type                    0\n",
       "fixed acidity           0\n",
       "volatile acidity        0\n",
       "citric acid             0\n",
       "residual sugar          0\n",
       "chlorides               0\n",
       "free sulfur dioxide     0\n",
       "total sulfur dioxide    0\n",
       "density                 0\n",
       "pH                      0\n",
       "sulphates               0\n",
       "alcohol                 0\n",
       "quality                 0\n",
       "dtype: int64"
      ]
     },
     "execution_count": 13,
     "metadata": {},
     "output_type": "execute_result"
    }
   ],
   "source": [
    "df_filtered.isna().sum()"
   ]
  },
  {
   "cell_type": "markdown",
   "id": "840e4970-5883-4653-9499-67754d49471e",
   "metadata": {},
   "source": [
    "Since they represent only a small portion of NaN values, we can simply delete all these rows. This approach is justified because the removal of a limited number of entries will not significantly impact the overall dataset. By doing so, we can ensure that our analysis is conducted on cleaner data, which is crucial for obtaining reliable results."
   ]
  },
  {
   "cell_type": "markdown",
   "id": "b43b09b3-58c7-4a01-be11-6c7b15423948",
   "metadata": {},
   "source": [
    "## 2. Dtypes "
   ]
  },
  {
   "cell_type": "code",
   "execution_count": 19,
   "id": "4c5082d0-45b2-43f2-8453-177063d19900",
   "metadata": {},
   "outputs": [
    {
     "data": {
      "text/plain": [
       "51704"
      ]
     },
     "execution_count": 19,
     "metadata": {},
     "output_type": "execute_result"
    }
   ],
   "source": [
    "df_filtered[\"type\"].nbytes"
   ]
  },
  {
   "cell_type": "code",
   "execution_count": 16,
   "id": "43141688-4521-42f8-8f8f-eda6465c7455",
   "metadata": {},
   "outputs": [
    {
     "data": {
      "text/plain": [
       "2"
      ]
     },
     "execution_count": 16,
     "metadata": {},
     "output_type": "execute_result"
    }
   ],
   "source": [
    "df_filtered[\"type\"].nunique()"
   ]
  },
  {
   "cell_type": "code",
   "execution_count": 17,
   "id": "7678e478-a8ad-4adc-81d5-b707ff0dab83",
   "metadata": {},
   "outputs": [
    {
     "data": {
      "text/plain": [
       "array(['white', 'red'], dtype=object)"
      ]
     },
     "execution_count": 17,
     "metadata": {},
     "output_type": "execute_result"
    }
   ],
   "source": [
    "df_filtered[\"type\"].unique()"
   ]
  },
  {
   "cell_type": "markdown",
   "id": "f6e2831d-955f-4414-9e2e-f40891c3454e",
   "metadata": {},
   "source": [
    "We can change the data type to 'category' to **enhance** both the **comprehensibility** and **memory efficiency** of the dataset."
   ]
  },
  {
   "cell_type": "code",
   "execution_count": 21,
   "id": "a8ed6308-bbd4-4631-af14-04d053886a3c",
   "metadata": {},
   "outputs": [
    {
     "name": "stderr",
     "output_type": "stream",
     "text": [
      "/var/folders/lz/zsz00k2n3pbflxxlfqttyt500000gn/T/ipykernel_2388/573768755.py:1: SettingWithCopyWarning: \n",
      "A value is trying to be set on a copy of a slice from a DataFrame.\n",
      "Try using .loc[row_indexer,col_indexer] = value instead\n",
      "\n",
      "See the caveats in the documentation: https://pandas.pydata.org/pandas-docs/stable/user_guide/indexing.html#returning-a-view-versus-a-copy\n",
      "  df_filtered[\"type\"] = df_filtered[\"type\"].astype('category')\n"
     ]
    }
   ],
   "source": [
    "df_filtered[\"type\"] = df_filtered[\"type\"].astype('category')"
   ]
  },
  {
   "cell_type": "code",
   "execution_count": 22,
   "id": "9208e1ad-bd9a-43d3-bcf5-d79b746a80e0",
   "metadata": {},
   "outputs": [
    {
     "data": {
      "text/plain": [
       "CategoricalDtype(categories=['red', 'white'], ordered=False, categories_dtype=object)"
      ]
     },
     "execution_count": 22,
     "metadata": {},
     "output_type": "execute_result"
    }
   ],
   "source": [
    "df_filtered[\"type\"].dtypes"
   ]
  },
  {
   "cell_type": "code",
   "execution_count": 23,
   "id": "9c084082-5222-45bc-8687-ab7b7d50386d",
   "metadata": {},
   "outputs": [
    {
     "data": {
      "text/plain": [
       "6479"
      ]
     },
     "execution_count": 23,
     "metadata": {},
     "output_type": "execute_result"
    }
   ],
   "source": [
    "df_filtered[\"type\"].nbytes"
   ]
  },
  {
   "cell_type": "markdown",
   "id": "aa29d36b-1c24-4f2a-ac0e-2fb6d503ee17",
   "metadata": {},
   "source": [
    "We have reduced the size from 51,704 bytes to 6,479 bytes, which represents a reduction of approximately **87.45%**."
   ]
  },
  {
   "cell_type": "markdown",
   "id": "7b0c0283-708f-4997-8c8a-597b63d360fa",
   "metadata": {},
   "source": [
    "## 3. Dealing with Outliers"
   ]
  },
  {
   "cell_type": "markdown",
   "id": "f67d243e-7e98-446d-b333-0edf01aa3b5e",
   "metadata": {},
   "source": [
    "Outliers are data points that significantly differ from the majority of a dataset, often lying far outside the expected range. \n",
    "\n",
    "Outliers may need to be removed because they can skew statistical analyses, distort results, lead to misleading conclusions, and adversely affect the performance of machine learning models, ultimately compromising the reliability of insights drawn from the data."
   ]
  },
  {
   "cell_type": "code",
   "execution_count": 26,
   "id": "20119ff1-11ce-4575-9dcf-99aa8a862e9c",
   "metadata": {},
   "outputs": [],
   "source": [
    "outliers_dict = {}"
   ]
  },
  {
   "cell_type": "code",
   "execution_count": 30,
   "id": "559e3dd9-a523-4542-99b2-4e2870714d75",
   "metadata": {},
   "outputs": [
    {
     "name": "stdout",
     "output_type": "stream",
     "text": [
      "\n",
      "For the column 'fixed acidity', the thresholds for detecting outliers are:\n",
      "Lower limit: 4.450000000000001\n",
      "Upper limit: 9.65\n",
      "\n",
      "For the column 'volatile acidity', the thresholds for detecting outliers are:\n",
      "Lower limit: -0.024999999999999994\n",
      "Upper limit: 0.655\n",
      "\n",
      "For the column 'citric acid', the thresholds for detecting outliers are:\n",
      "Lower limit: 0.03999999999999998\n",
      "Upper limit: 0.6000000000000001\n",
      "\n",
      "For the column 'residual sugar', the thresholds for detecting outliers are:\n",
      "Lower limit: -7.6499999999999995\n",
      "Upper limit: 17.549999999999997\n",
      "\n",
      "For the column 'chlorides', the thresholds for detecting outliers are:\n",
      "Lower limit: -0.002500000000000009\n",
      "Upper limit: 0.10550000000000001\n",
      "\n",
      "For the column 'free sulfur dioxide', the thresholds for detecting outliers are:\n",
      "Lower limit: -19.0\n",
      "Upper limit: 77.0\n",
      "\n",
      "For the column 'total sulfur dioxide', the thresholds for detecting outliers are:\n",
      "Lower limit: -41.5\n",
      "Upper limit: 274.5\n",
      "\n",
      "For the column 'density', the thresholds for detecting outliers are:\n",
      "Lower limit: 0.9853249999999998\n",
      "Upper limit: 1.004005\n",
      "\n",
      "For the column 'pH', the thresholds for detecting outliers are:\n",
      "Lower limit: 2.795\n",
      "Upper limit: 3.635\n",
      "\n",
      "For the column 'sulphates', the thresholds for detecting outliers are:\n",
      "Lower limit: 0.175\n",
      "Upper limit: 0.855\n",
      "\n",
      "For the column 'alcohol', the thresholds for detecting outliers are:\n",
      "Lower limit: 6.799999999999999\n",
      "Upper limit: 14.000000000000002\n",
      "\n",
      "For the column 'quality', the thresholds for detecting outliers are:\n",
      "Lower limit: 3.5\n",
      "Upper limit: 7.5\n"
     ]
    }
   ],
   "source": [
    "for col in df_filtered.select_dtypes(include='number').columns:\n",
    "    Q1 = df_filtered[col].quantile(0.25)\n",
    "    Q3 = df_filtered[col].quantile(0.75)\n",
    "    IQR = Q3 - Q1\n",
    "    \n",
    "    limite_inferieure = Q1 - 1.5 * IQR\n",
    "    limite_superieure = Q3 + 1.5 * IQR\n",
    "    \n",
    "    outliers = df_filtered[(df_filtered[col] < limite_inferieure) | (df_filtered[col] > limite_superieure)]\n",
    "    \n",
    "    outliers_dict[col] = outliers\n",
    "\n",
    "    print(f\"\\nFor the column '{col}', the thresholds for detecting outliers are:\")\n",
    "    print(f\"Lower limit: {limite_inferieure}\")\n",
    "    print(f\"Upper limit: {limite_superieure}\")"
   ]
  },
  {
   "cell_type": "code",
   "execution_count": 35,
   "id": "a17c4b7e-709c-4504-b3cd-4a55fc073bad",
   "metadata": {},
   "outputs": [
    {
     "name": "stdout",
     "output_type": "stream",
     "text": [
      "\n",
      "The total sum of all outlier values is: 18034.72058\n"
     ]
    }
   ],
   "source": [
    "total_outlier_sum = 0\n",
    "\n",
    "for col, outliers in outliers_dict.items():\n",
    "    # Add the outlier values to the total sum\n",
    "    total_outlier_sum += outliers[col].sum()\n",
    "\n",
    "# Display the total sum of outlier values\n",
    "print(f\"\\nThe total sum of all outlier values is: {total_outlier_sum}\")\n"
   ]
  },
  {
   "cell_type": "markdown",
   "id": "ddd2ef3b-e1a2-448a-ac5b-0595c13e440b",
   "metadata": {},
   "source": [
    "For this step, we can conduct research to determine whether these rates are considered outliers in the field of wine."
   ]
  },
  {
   "cell_type": "markdown",
   "id": "53f897eb-f7de-418a-9d70-6b7bbd886501",
   "metadata": {},
   "source": [
    "- **Fixed Acidity**  \n",
    "  - Lower limit: 4.45  \n",
    "  - Upper limit: 9.65  \n",
    "  - Interpretation: Fixed acidity levels in wine typically range between 4 and 10 g/L. Thus, this range is plausible for most wines.\n",
    "\n",
    "- **Volatile Acidity**  \n",
    "  - Lower limit: -0.025  \n",
    "  - Upper limit: 0.655  \n",
    "  - Interpretation: A level of 0.6 g/L is considered high. Values above this may indicate defects in the wine, making this limit relevant.\n",
    "\n",
    "- **Citric Acid**  \n",
    "  - Lower limit: 0.04  \n",
    "  - Upper limit: 0.60  \n",
    "  - Interpretation: Levels of this acid in wine are generally low. Values up to 0.6 g/L are acceptable, making this range plausible.\n",
    "\n",
    "- **Residual Sugar**  \n",
    "  - Lower limit: -7.65  \n",
    "  - Upper limit: 17.55  \n",
    "  - Interpretation: Wines can have a wide range of residual sugars, especially in sweet wines. Therefore, this range is plausible.\n",
    "\n",
    "- **Chlorides**  \n",
    "  - Lower limit: -0.0025  \n",
    "  - Upper limit: 0.1055  \n",
    "  - Interpretation: Chloride levels in wine should be low. Values above 0.1 g/L can be concerning, so this range is significant.\n",
    "\n",
    "- **Free Sulfur Dioxide**  \n",
    "  - Lower limit: -19.0  \n",
    "  - Upper limit: 77.0  \n",
    "  - Interpretation: Free sulfur dioxide levels must be well-controlled to avoid defects. This range is considered acceptable.\n",
    "\n",
    "- **Total Sulfur Dioxide**  \n",
    "  - Lower limit: -41.5  \n",
    "  - Upper limit: 274.5  \n",
    "  - Interpretation: Total sulfur dioxide levels in wine can reach up to 300 mg/L, so this range is reasonable.\n",
    "\n",
    "- **Density**  \n",
    "  - Lower limit: 0.9853  \n",
    "  - Upper limit: 1.0040  \n",
    "  - Interpretation: The density of red wines typically ranges from 0.990 to 1.010 g/mL, making this range plausible.\n",
    "\n",
    "- **pH**  \n",
    "  - Lower limit: 2.795  \n",
    "  - Upper limit: 3.635  \n",
    "  - Interpretation: pH levels in wine generally range from 2.9 to 4.0, so this range is acceptable.\n",
    "\n",
    "- **Sulphates**  \n",
    "  - Lower limit: 0.175  \n",
    "  - Upper limit: 0.855  \n",
    "  - Interpretation: Sulfate levels up to 0.5 g/L are typical. Thus, this range is plausible.\n",
    "\n",
    "- **Alcohol**  \n",
    "  - Lower limit: 6.8  \n",
    "  - Upper limit: 14.0  \n",
    "  - Interpretation: Alcohol levels in wine typically range from 8% to 15%, so this range is reasonable.\n",
    "\n"
   ]
  },
  {
   "cell_type": "markdown",
   "id": "fd372df6-cec8-479e-be9e-53b39836bdc6",
   "metadata": {},
   "source": [
    "Therefore, we establish the limits and remove all data points that fall outside of these boundaries."
   ]
  },
  {
   "cell_type": "code",
   "execution_count": 32,
   "id": "0f401d6c-4b06-4768-b9d8-8c4d75a25d93",
   "metadata": {},
   "outputs": [],
   "source": [
    "limits = {\n",
    "    'fixed acidity': (4, 10),\n",
    "    'volatile acidity': (-0.025, 0.655),\n",
    "    'citric acid': (0.04, 0.60),\n",
    "    'residual sugar': (-7.65, 17.55),\n",
    "    'chlorides': (-0.0025, 0.1055),\n",
    "    'free sulfur dioxide': (-19.0, 77.0),\n",
    "    'total sulfur dioxide': (-41.5, 300),\n",
    "    'density': (0.9853, 1.0040),\n",
    "    'pH': (2.795, 4),\n",
    "    'sulphates': (0.175, 0.855),\n",
    "    'alcohol': (6.8, 15.0),\n",
    "    'quality': (1, 10)\n",
    "}"
   ]
  },
  {
   "cell_type": "code",
   "execution_count": 40,
   "id": "5e8abdc4-334d-4aa1-b311-b23865d11f59",
   "metadata": {},
   "outputs": [
    {
     "data": {
      "text/plain": [
       "(5102, 13)"
      ]
     },
     "execution_count": 40,
     "metadata": {},
     "output_type": "execute_result"
    }
   ],
   "source": [
    "df_filtered.shape\n"
   ]
  },
  {
   "cell_type": "code",
   "execution_count": 41,
   "id": "8105be3e-d059-4e9f-a961-deb74b868251",
   "metadata": {},
   "outputs": [],
   "source": [
    "df_filtered_copy = df_filtered.copy()"
   ]
  },
  {
   "cell_type": "code",
   "execution_count": 44,
   "id": "d22cb6f4-e141-4817-b940-205a26da157a",
   "metadata": {},
   "outputs": [],
   "source": [
    "# Create a mask to filter the DataFrame\n",
    "mask = pd.Series([True] * len(df))\n",
    "\n",
    "# Iterate through the limits and apply the mask\n",
    "for col, (lower, upper) in limits.items():\n",
    "    mask &= (df[col] >= lower) & (df[col] <= upper)\n",
    "\n",
    "# Resetting the index of the mask and DataFrame for alignment\n",
    "mask.index = df.index\n",
    "\n",
    "# Filter the DataFrame to keep only rows within the limits\n",
    "df_filtered = df[mask]\n",
    "\n"
   ]
  },
  {
   "cell_type": "code",
   "execution_count": 45,
   "id": "e7de14cc-4964-4e29-b442-1a26cc977cb2",
   "metadata": {},
   "outputs": [
    {
     "data": {
      "text/plain": [
       "(5102, 13)"
      ]
     },
     "execution_count": 45,
     "metadata": {},
     "output_type": "execute_result"
    }
   ],
   "source": [
    "df_filtered.shape"
   ]
  },
  {
   "cell_type": "code",
   "execution_count": 49,
   "id": "fa7eb7d9-b8d6-4452-a72e-f74709d2bc91",
   "metadata": {},
   "outputs": [],
   "source": [
    "mask = pd.Series([True] * len(df_filtered_copy))\n",
    "\n",
    "for col, (lower, upper) in limits.items():\n",
    "    mask &= (df_filtered_copy[col] >= lower) & (df_filtered_copy[col] <= upper)\n",
    "mask.index = df_filtered_copy.index\n",
    "df_filtered_copy = df_filtered_copy[mask]"
   ]
  },
  {
   "cell_type": "code",
   "execution_count": 51,
   "id": "bdb9f872-30ba-44f7-b5e8-a3d83966a718",
   "metadata": {},
   "outputs": [
    {
     "data": {
      "text/plain": [
       "(3510, 13)"
      ]
     },
     "execution_count": 51,
     "metadata": {},
     "output_type": "execute_result"
    }
   ],
   "source": [
    "df_filtered_copy.shape"
   ]
  },
  {
   "cell_type": "code",
   "execution_count": 53,
   "id": "ca5baa7a-46f5-4c4d-a22e-d90d12ef93fe",
   "metadata": {},
   "outputs": [],
   "source": [
    "clean_df = df_filtered_copy"
   ]
  },
  {
   "cell_type": "code",
   "execution_count": 55,
   "id": "a1cfd200-f548-4bf6-bd98-ef0a5f7431c4",
   "metadata": {},
   "outputs": [
    {
     "data": {
      "text/html": [
       "<div>\n",
       "<style scoped>\n",
       "    .dataframe tbody tr th:only-of-type {\n",
       "        vertical-align: middle;\n",
       "    }\n",
       "\n",
       "    .dataframe tbody tr th {\n",
       "        vertical-align: top;\n",
       "    }\n",
       "\n",
       "    .dataframe thead th {\n",
       "        text-align: right;\n",
       "    }\n",
       "</style>\n",
       "<table border=\"1\" class=\"dataframe\">\n",
       "  <thead>\n",
       "    <tr style=\"text-align: right;\">\n",
       "      <th></th>\n",
       "      <th>type</th>\n",
       "      <th>fixed acidity</th>\n",
       "      <th>volatile acidity</th>\n",
       "      <th>citric acid</th>\n",
       "      <th>residual sugar</th>\n",
       "      <th>chlorides</th>\n",
       "      <th>free sulfur dioxide</th>\n",
       "      <th>total sulfur dioxide</th>\n",
       "      <th>density</th>\n",
       "      <th>pH</th>\n",
       "      <th>sulphates</th>\n",
       "      <th>alcohol</th>\n",
       "      <th>quality</th>\n",
       "    </tr>\n",
       "  </thead>\n",
       "  <tbody>\n",
       "    <tr>\n",
       "      <th>4</th>\n",
       "      <td>white</td>\n",
       "      <td>7.2</td>\n",
       "      <td>0.23</td>\n",
       "      <td>0.32</td>\n",
       "      <td>8.50</td>\n",
       "      <td>0.058</td>\n",
       "      <td>47.0</td>\n",
       "      <td>186.0</td>\n",
       "      <td>0.9956</td>\n",
       "      <td>3.19</td>\n",
       "      <td>0.40</td>\n",
       "      <td>9.9</td>\n",
       "      <td>6</td>\n",
       "    </tr>\n",
       "    <tr>\n",
       "      <th>5</th>\n",
       "      <td>white</td>\n",
       "      <td>8.1</td>\n",
       "      <td>0.28</td>\n",
       "      <td>0.40</td>\n",
       "      <td>6.90</td>\n",
       "      <td>0.050</td>\n",
       "      <td>30.0</td>\n",
       "      <td>97.0</td>\n",
       "      <td>0.9951</td>\n",
       "      <td>3.26</td>\n",
       "      <td>0.44</td>\n",
       "      <td>10.1</td>\n",
       "      <td>6</td>\n",
       "    </tr>\n",
       "    <tr>\n",
       "      <th>6</th>\n",
       "      <td>white</td>\n",
       "      <td>6.2</td>\n",
       "      <td>0.32</td>\n",
       "      <td>0.16</td>\n",
       "      <td>7.00</td>\n",
       "      <td>0.045</td>\n",
       "      <td>30.0</td>\n",
       "      <td>136.0</td>\n",
       "      <td>0.9949</td>\n",
       "      <td>3.18</td>\n",
       "      <td>0.47</td>\n",
       "      <td>9.6</td>\n",
       "      <td>6</td>\n",
       "    </tr>\n",
       "    <tr>\n",
       "      <th>8</th>\n",
       "      <td>white</td>\n",
       "      <td>6.3</td>\n",
       "      <td>0.30</td>\n",
       "      <td>0.34</td>\n",
       "      <td>1.60</td>\n",
       "      <td>0.049</td>\n",
       "      <td>14.0</td>\n",
       "      <td>132.0</td>\n",
       "      <td>0.9940</td>\n",
       "      <td>3.30</td>\n",
       "      <td>0.49</td>\n",
       "      <td>9.5</td>\n",
       "      <td>6</td>\n",
       "    </tr>\n",
       "    <tr>\n",
       "      <th>10</th>\n",
       "      <td>white</td>\n",
       "      <td>8.1</td>\n",
       "      <td>0.27</td>\n",
       "      <td>0.41</td>\n",
       "      <td>1.45</td>\n",
       "      <td>0.033</td>\n",
       "      <td>11.0</td>\n",
       "      <td>63.0</td>\n",
       "      <td>0.9908</td>\n",
       "      <td>2.99</td>\n",
       "      <td>0.56</td>\n",
       "      <td>12.0</td>\n",
       "      <td>5</td>\n",
       "    </tr>\n",
       "  </tbody>\n",
       "</table>\n",
       "</div>"
      ],
      "text/plain": [
       "     type  fixed acidity  volatile acidity  citric acid  residual sugar  \\\n",
       "4   white            7.2              0.23         0.32            8.50   \n",
       "5   white            8.1              0.28         0.40            6.90   \n",
       "6   white            6.2              0.32         0.16            7.00   \n",
       "8   white            6.3              0.30         0.34            1.60   \n",
       "10  white            8.1              0.27         0.41            1.45   \n",
       "\n",
       "    chlorides  free sulfur dioxide  total sulfur dioxide  density    pH  \\\n",
       "4       0.058                 47.0                 186.0   0.9956  3.19   \n",
       "5       0.050                 30.0                  97.0   0.9951  3.26   \n",
       "6       0.045                 30.0                 136.0   0.9949  3.18   \n",
       "8       0.049                 14.0                 132.0   0.9940  3.30   \n",
       "10      0.033                 11.0                  63.0   0.9908  2.99   \n",
       "\n",
       "    sulphates  alcohol  quality  \n",
       "4        0.40      9.9        6  \n",
       "5        0.44     10.1        6  \n",
       "6        0.47      9.6        6  \n",
       "8        0.49      9.5        6  \n",
       "10       0.56     12.0        5  "
      ]
     },
     "execution_count": 55,
     "metadata": {},
     "output_type": "execute_result"
    }
   ],
   "source": [
    "clean_df.head()"
   ]
  },
  {
   "cell_type": "code",
   "execution_count": 56,
   "id": "89d36a3e-cf12-4cfb-9e9e-7bbed765d08e",
   "metadata": {},
   "outputs": [],
   "source": [
    "memory_usage = clean_df.memory_usage(deep=True)\n",
    "total_memory_usage = memory_usage.sum()"
   ]
  },
  {
   "cell_type": "code",
   "execution_count": 57,
   "id": "e7d6c9ad-4560-48d3-947c-38d0a9f84643",
   "metadata": {},
   "outputs": [
    {
     "data": {
      "text/plain": [
       "368764"
      ]
     },
     "execution_count": 57,
     "metadata": {},
     "output_type": "execute_result"
    }
   ],
   "source": [
    "total_memory_usage"
   ]
  },
  {
   "cell_type": "markdown",
   "id": "6e1efd03-02ea-4c9f-8beb-f66eac5b97f9",
   "metadata": {},
   "source": [
    "## Conclusion\n",
    "In this project, we meticulously cleaned the entire dataset by addressing missing values, managing outliers, and refining column types. The primary goal of this preparatory work was to optimize the dataset for machine learning, ensuring it operates as efficiently as possible. Additionally, we reduced the file size to minimize costs associated with data storage and processing. Through these efforts, we have laid a solid foundation for further analysis and model development, enhancing the overall performance and effectiveness of our machine learning initiatives."
   ]
  }
 ],
 "metadata": {
  "kernelspec": {
   "display_name": "Python 3 (ipykernel)",
   "language": "python",
   "name": "python3"
  },
  "language_info": {
   "codemirror_mode": {
    "name": "ipython",
    "version": 3
   },
   "file_extension": ".py",
   "mimetype": "text/x-python",
   "name": "python",
   "nbconvert_exporter": "python",
   "pygments_lexer": "ipython3",
   "version": "3.12.3"
  }
 },
 "nbformat": 4,
 "nbformat_minor": 5
}
