{
 "cells": [
  {
   "cell_type": "markdown",
   "id": "4fa0ea03-b6ee-43d3-b8eb-be82057df392",
   "metadata": {},
   "source": [
    "# Data analysis project :  Forbes Highest Paid Athletes 1990-2020"
   ]
  },
  {
   "cell_type": "markdown",
   "id": "9257a965-f9eb-4fcd-8553-0984d29be8c9",
   "metadata": {},
   "source": [
    "## Introduction"
   ]
  },
  {
   "cell_type": "markdown",
   "id": "c1d6fd99-8523-4225-b659-de6b154295a6",
   "metadata": {},
   "source": [
    "In this project, I apply my knowledge of data analysis to explore the Forbes highest-paid athletes between the years 1990 and 2020. The dataset is sourced from Kaggle, and the objective of this project is purely educational, aimed at enhancing my data analysis skills."
   ]
  },
  {
   "cell_type": "code",
   "execution_count": 1,
   "id": "82ee9aa0-49d4-495b-ba24-a16ba7b669d5",
   "metadata": {},
   "outputs": [],
   "source": [
    "import pandas as pd\n",
    "import numpy as np \n",
    "import seaborn as sns \n",
    "import matplotlib.pyplot as plt"
   ]
  },
  {
   "cell_type": "code",
   "execution_count": 2,
   "id": "9d437a05-3dd1-42e1-a9ae-cda0ee3735d9",
   "metadata": {},
   "outputs": [],
   "source": [
    "# Read in the data\n",
    "dataframe = pd.read_csv('Dataset/Forbes Richest Atheletes (Forbes Richest Athletes 1990-2020).csv')"
   ]
  },
  {
   "cell_type": "code",
   "execution_count": 3,
   "id": "9a05a154-bd93-4b9a-9844-d9aaaca9e808",
   "metadata": {},
   "outputs": [
    {
     "data": {
      "text/html": [
       "<div>\n",
       "<style scoped>\n",
       "    .dataframe tbody tr th:only-of-type {\n",
       "        vertical-align: middle;\n",
       "    }\n",
       "\n",
       "    .dataframe tbody tr th {\n",
       "        vertical-align: top;\n",
       "    }\n",
       "\n",
       "    .dataframe thead th {\n",
       "        text-align: right;\n",
       "    }\n",
       "</style>\n",
       "<table border=\"1\" class=\"dataframe\">\n",
       "  <thead>\n",
       "    <tr style=\"text-align: right;\">\n",
       "      <th></th>\n",
       "      <th>S.NO</th>\n",
       "      <th>Name</th>\n",
       "      <th>Nationality</th>\n",
       "      <th>Current Rank</th>\n",
       "      <th>Previous Year Rank</th>\n",
       "      <th>Sport</th>\n",
       "      <th>Year</th>\n",
       "      <th>earnings ($ million)</th>\n",
       "    </tr>\n",
       "  </thead>\n",
       "  <tbody>\n",
       "    <tr>\n",
       "      <th>0</th>\n",
       "      <td>1</td>\n",
       "      <td>Mike Tyson</td>\n",
       "      <td>USA</td>\n",
       "      <td>1</td>\n",
       "      <td>NaN</td>\n",
       "      <td>boxing</td>\n",
       "      <td>1990</td>\n",
       "      <td>28.6</td>\n",
       "    </tr>\n",
       "    <tr>\n",
       "      <th>1</th>\n",
       "      <td>2</td>\n",
       "      <td>Buster Douglas</td>\n",
       "      <td>USA</td>\n",
       "      <td>2</td>\n",
       "      <td>NaN</td>\n",
       "      <td>boxing</td>\n",
       "      <td>1990</td>\n",
       "      <td>26.0</td>\n",
       "    </tr>\n",
       "    <tr>\n",
       "      <th>2</th>\n",
       "      <td>3</td>\n",
       "      <td>Sugar Ray Leonard</td>\n",
       "      <td>USA</td>\n",
       "      <td>3</td>\n",
       "      <td>NaN</td>\n",
       "      <td>boxing</td>\n",
       "      <td>1990</td>\n",
       "      <td>13.0</td>\n",
       "    </tr>\n",
       "    <tr>\n",
       "      <th>3</th>\n",
       "      <td>4</td>\n",
       "      <td>Ayrton Senna</td>\n",
       "      <td>Brazil</td>\n",
       "      <td>4</td>\n",
       "      <td>NaN</td>\n",
       "      <td>auto racing</td>\n",
       "      <td>1990</td>\n",
       "      <td>10.0</td>\n",
       "    </tr>\n",
       "    <tr>\n",
       "      <th>4</th>\n",
       "      <td>5</td>\n",
       "      <td>Alain Prost</td>\n",
       "      <td>France</td>\n",
       "      <td>5</td>\n",
       "      <td>NaN</td>\n",
       "      <td>auto racing</td>\n",
       "      <td>1990</td>\n",
       "      <td>9.0</td>\n",
       "    </tr>\n",
       "  </tbody>\n",
       "</table>\n",
       "</div>"
      ],
      "text/plain": [
       "   S.NO               Name Nationality  Current Rank Previous Year Rank  \\\n",
       "0     1         Mike Tyson         USA             1                NaN   \n",
       "1     2     Buster Douglas         USA             2                NaN   \n",
       "2     3  Sugar Ray Leonard         USA             3                NaN   \n",
       "3     4       Ayrton Senna      Brazil             4                NaN   \n",
       "4     5        Alain Prost      France             5                NaN   \n",
       "\n",
       "         Sport  Year  earnings ($ million)  \n",
       "0       boxing  1990                  28.6  \n",
       "1       boxing  1990                  26.0  \n",
       "2       boxing  1990                  13.0  \n",
       "3  auto racing  1990                  10.0  \n",
       "4  auto racing  1990                   9.0  "
      ]
     },
     "execution_count": 3,
     "metadata": {},
     "output_type": "execute_result"
    }
   ],
   "source": [
    "#We display key information about the dataset \n",
    "dataframe.head()"
   ]
  },
  {
   "cell_type": "code",
   "execution_count": 4,
   "id": "09fc4918-d297-4f87-ae6e-0a80a03dfe9a",
   "metadata": {},
   "outputs": [
    {
     "name": "stdout",
     "output_type": "stream",
     "text": [
      "<class 'pandas.core.frame.DataFrame'>\n",
      "RangeIndex: 301 entries, 0 to 300\n",
      "Data columns (total 8 columns):\n",
      " #   Column                Non-Null Count  Dtype  \n",
      "---  ------                --------------  -----  \n",
      " 0   S.NO                  301 non-null    int64  \n",
      " 1   Name                  301 non-null    object \n",
      " 2   Nationality           301 non-null    object \n",
      " 3   Current Rank          301 non-null    int64  \n",
      " 4   Previous Year Rank    277 non-null    object \n",
      " 5   Sport                 301 non-null    object \n",
      " 6   Year                  301 non-null    int64  \n",
      " 7   earnings ($ million)  301 non-null    float64\n",
      "dtypes: float64(1), int64(3), object(4)\n",
      "memory usage: 18.9+ KB\n"
     ]
    }
   ],
   "source": [
    "dataframe.info()"
   ]
  },
  {
   "cell_type": "code",
   "execution_count": 5,
   "id": "935a42f6-8b7e-443c-abd1-cd46175db109",
   "metadata": {},
   "outputs": [
    {
     "data": {
      "text/plain": [
       "(301, 8)"
      ]
     },
     "execution_count": 5,
     "metadata": {},
     "output_type": "execute_result"
    }
   ],
   "source": [
    "dataframe.shape"
   ]
  },
  {
   "cell_type": "code",
   "execution_count": 6,
   "id": "87e8bd68-fd29-4a26-9a4b-3d9b772a954c",
   "metadata": {},
   "outputs": [
    {
     "data": {
      "text/html": [
       "<div>\n",
       "<style scoped>\n",
       "    .dataframe tbody tr th:only-of-type {\n",
       "        vertical-align: middle;\n",
       "    }\n",
       "\n",
       "    .dataframe tbody tr th {\n",
       "        vertical-align: top;\n",
       "    }\n",
       "\n",
       "    .dataframe thead th {\n",
       "        text-align: right;\n",
       "    }\n",
       "</style>\n",
       "<table border=\"1\" class=\"dataframe\">\n",
       "  <thead>\n",
       "    <tr style=\"text-align: right;\">\n",
       "      <th></th>\n",
       "      <th>S.NO</th>\n",
       "      <th>Current Rank</th>\n",
       "      <th>Year</th>\n",
       "      <th>earnings ($ million)</th>\n",
       "    </tr>\n",
       "  </thead>\n",
       "  <tbody>\n",
       "    <tr>\n",
       "      <th>count</th>\n",
       "      <td>301.000000</td>\n",
       "      <td>301.000000</td>\n",
       "      <td>301.000000</td>\n",
       "      <td>301.000000</td>\n",
       "    </tr>\n",
       "    <tr>\n",
       "      <th>mean</th>\n",
       "      <td>151.000000</td>\n",
       "      <td>5.448505</td>\n",
       "      <td>2005.122924</td>\n",
       "      <td>45.516279</td>\n",
       "    </tr>\n",
       "    <tr>\n",
       "      <th>std</th>\n",
       "      <td>87.035433</td>\n",
       "      <td>2.850995</td>\n",
       "      <td>9.063563</td>\n",
       "      <td>33.525337</td>\n",
       "    </tr>\n",
       "    <tr>\n",
       "      <th>min</th>\n",
       "      <td>1.000000</td>\n",
       "      <td>1.000000</td>\n",
       "      <td>1990.000000</td>\n",
       "      <td>8.100000</td>\n",
       "    </tr>\n",
       "    <tr>\n",
       "      <th>25%</th>\n",
       "      <td>76.000000</td>\n",
       "      <td>3.000000</td>\n",
       "      <td>1997.000000</td>\n",
       "      <td>24.000000</td>\n",
       "    </tr>\n",
       "    <tr>\n",
       "      <th>50%</th>\n",
       "      <td>151.000000</td>\n",
       "      <td>5.000000</td>\n",
       "      <td>2005.000000</td>\n",
       "      <td>39.000000</td>\n",
       "    </tr>\n",
       "    <tr>\n",
       "      <th>75%</th>\n",
       "      <td>226.000000</td>\n",
       "      <td>8.000000</td>\n",
       "      <td>2013.000000</td>\n",
       "      <td>59.400000</td>\n",
       "    </tr>\n",
       "    <tr>\n",
       "      <th>max</th>\n",
       "      <td>301.000000</td>\n",
       "      <td>10.000000</td>\n",
       "      <td>2020.000000</td>\n",
       "      <td>300.000000</td>\n",
       "    </tr>\n",
       "  </tbody>\n",
       "</table>\n",
       "</div>"
      ],
      "text/plain": [
       "             S.NO  Current Rank         Year  earnings ($ million)\n",
       "count  301.000000    301.000000   301.000000            301.000000\n",
       "mean   151.000000      5.448505  2005.122924             45.516279\n",
       "std     87.035433      2.850995     9.063563             33.525337\n",
       "min      1.000000      1.000000  1990.000000              8.100000\n",
       "25%     76.000000      3.000000  1997.000000             24.000000\n",
       "50%    151.000000      5.000000  2005.000000             39.000000\n",
       "75%    226.000000      8.000000  2013.000000             59.400000\n",
       "max    301.000000     10.000000  2020.000000            300.000000"
      ]
     },
     "execution_count": 6,
     "metadata": {},
     "output_type": "execute_result"
    }
   ],
   "source": [
    "dataframe.describe()"
   ]
  },
  {
   "cell_type": "markdown",
   "id": "81a8c06e-5a1b-4ebf-a972-3b04035c6a78",
   "metadata": {},
   "source": [
    "## 1. Data cleaning "
   ]
  },
  {
   "cell_type": "markdown",
   "id": "782428c0-d753-4487-b248-eeeb13691413",
   "metadata": {},
   "source": [
    "### Handling Missing Values"
   ]
  },
  {
   "cell_type": "code",
   "execution_count": 7,
   "id": "9ac09266-0934-4ea7-8646-f4d36089718e",
   "metadata": {},
   "outputs": [
    {
     "data": {
      "text/plain": [
       "S.NO                     0\n",
       "Name                     0\n",
       "Nationality              0\n",
       "Current Rank             0\n",
       "Previous Year Rank      24\n",
       "Sport                    0\n",
       "Year                     0\n",
       "earnings ($ million)     0\n",
       "dtype: int64"
      ]
     },
     "execution_count": 7,
     "metadata": {},
     "output_type": "execute_result"
    }
   ],
   "source": [
    "#We display the sum of Missing Values\n",
    "dataframe.isna().sum()"
   ]
  },
  {
   "cell_type": "code",
   "execution_count": 8,
   "id": "88a2131f-9c0b-432c-8cb8-80469639a30d",
   "metadata": {},
   "outputs": [
    {
     "data": {
      "text/html": [
       "<div>\n",
       "<style scoped>\n",
       "    .dataframe tbody tr th:only-of-type {\n",
       "        vertical-align: middle;\n",
       "    }\n",
       "\n",
       "    .dataframe tbody tr th {\n",
       "        vertical-align: top;\n",
       "    }\n",
       "\n",
       "    .dataframe thead th {\n",
       "        text-align: right;\n",
       "    }\n",
       "</style>\n",
       "<table border=\"1\" class=\"dataframe\">\n",
       "  <thead>\n",
       "    <tr style=\"text-align: right;\">\n",
       "      <th></th>\n",
       "      <th>S.NO</th>\n",
       "      <th>Name</th>\n",
       "      <th>Nationality</th>\n",
       "      <th>Current Rank</th>\n",
       "      <th>Previous Year Rank</th>\n",
       "      <th>Sport</th>\n",
       "      <th>Year</th>\n",
       "      <th>earnings ($ million)</th>\n",
       "    </tr>\n",
       "  </thead>\n",
       "  <tbody>\n",
       "    <tr>\n",
       "      <th>0</th>\n",
       "      <td>1</td>\n",
       "      <td>Mike Tyson</td>\n",
       "      <td>USA</td>\n",
       "      <td>1</td>\n",
       "      <td>NaN</td>\n",
       "      <td>boxing</td>\n",
       "      <td>1990</td>\n",
       "      <td>28.6</td>\n",
       "    </tr>\n",
       "    <tr>\n",
       "      <th>1</th>\n",
       "      <td>2</td>\n",
       "      <td>Buster Douglas</td>\n",
       "      <td>USA</td>\n",
       "      <td>2</td>\n",
       "      <td>NaN</td>\n",
       "      <td>boxing</td>\n",
       "      <td>1990</td>\n",
       "      <td>26.0</td>\n",
       "    </tr>\n",
       "    <tr>\n",
       "      <th>2</th>\n",
       "      <td>3</td>\n",
       "      <td>Sugar Ray Leonard</td>\n",
       "      <td>USA</td>\n",
       "      <td>3</td>\n",
       "      <td>NaN</td>\n",
       "      <td>boxing</td>\n",
       "      <td>1990</td>\n",
       "      <td>13.0</td>\n",
       "    </tr>\n",
       "    <tr>\n",
       "      <th>3</th>\n",
       "      <td>4</td>\n",
       "      <td>Ayrton Senna</td>\n",
       "      <td>Brazil</td>\n",
       "      <td>4</td>\n",
       "      <td>NaN</td>\n",
       "      <td>auto racing</td>\n",
       "      <td>1990</td>\n",
       "      <td>10.0</td>\n",
       "    </tr>\n",
       "    <tr>\n",
       "      <th>4</th>\n",
       "      <td>5</td>\n",
       "      <td>Alain Prost</td>\n",
       "      <td>France</td>\n",
       "      <td>5</td>\n",
       "      <td>NaN</td>\n",
       "      <td>auto racing</td>\n",
       "      <td>1990</td>\n",
       "      <td>9.0</td>\n",
       "    </tr>\n",
       "    <tr>\n",
       "      <th>5</th>\n",
       "      <td>6</td>\n",
       "      <td>Jack Nicklaus</td>\n",
       "      <td>USA</td>\n",
       "      <td>6</td>\n",
       "      <td>NaN</td>\n",
       "      <td>golf</td>\n",
       "      <td>1990</td>\n",
       "      <td>8.6</td>\n",
       "    </tr>\n",
       "    <tr>\n",
       "      <th>6</th>\n",
       "      <td>7</td>\n",
       "      <td>Greg Norman</td>\n",
       "      <td>Australia</td>\n",
       "      <td>7</td>\n",
       "      <td>NaN</td>\n",
       "      <td>golf</td>\n",
       "      <td>1990</td>\n",
       "      <td>8.5</td>\n",
       "    </tr>\n",
       "    <tr>\n",
       "      <th>7</th>\n",
       "      <td>8</td>\n",
       "      <td>Michael Jordan</td>\n",
       "      <td>USA</td>\n",
       "      <td>8</td>\n",
       "      <td>NaN</td>\n",
       "      <td>basketball</td>\n",
       "      <td>1990</td>\n",
       "      <td>8.1</td>\n",
       "    </tr>\n",
       "    <tr>\n",
       "      <th>8</th>\n",
       "      <td>9</td>\n",
       "      <td>Arnold Palmer</td>\n",
       "      <td>USA</td>\n",
       "      <td>8</td>\n",
       "      <td>NaN</td>\n",
       "      <td>golf</td>\n",
       "      <td>1990</td>\n",
       "      <td>8.1</td>\n",
       "    </tr>\n",
       "    <tr>\n",
       "      <th>9</th>\n",
       "      <td>10</td>\n",
       "      <td>Evander Holyfield</td>\n",
       "      <td>USA</td>\n",
       "      <td>8</td>\n",
       "      <td>NaN</td>\n",
       "      <td>boxing</td>\n",
       "      <td>1990</td>\n",
       "      <td>8.1</td>\n",
       "    </tr>\n",
       "    <tr>\n",
       "      <th>80</th>\n",
       "      <td>81</td>\n",
       "      <td>Michael Jordan</td>\n",
       "      <td>USA</td>\n",
       "      <td>1</td>\n",
       "      <td>NaN</td>\n",
       "      <td>Basketball</td>\n",
       "      <td>1998</td>\n",
       "      <td>69.0</td>\n",
       "    </tr>\n",
       "    <tr>\n",
       "      <th>81</th>\n",
       "      <td>82</td>\n",
       "      <td>Michael Schumacher</td>\n",
       "      <td>Germany</td>\n",
       "      <td>2</td>\n",
       "      <td>NaN</td>\n",
       "      <td>F1 Motorsports</td>\n",
       "      <td>1998</td>\n",
       "      <td>38.0</td>\n",
       "    </tr>\n",
       "    <tr>\n",
       "      <th>82</th>\n",
       "      <td>83</td>\n",
       "      <td>Sergei Federov</td>\n",
       "      <td>Russia</td>\n",
       "      <td>3</td>\n",
       "      <td>NaN</td>\n",
       "      <td>Ice Hockey</td>\n",
       "      <td>1998</td>\n",
       "      <td>29.8</td>\n",
       "    </tr>\n",
       "    <tr>\n",
       "      <th>83</th>\n",
       "      <td>84</td>\n",
       "      <td>Tiger Woods</td>\n",
       "      <td>USA</td>\n",
       "      <td>4</td>\n",
       "      <td>NaN</td>\n",
       "      <td>Golf</td>\n",
       "      <td>1998</td>\n",
       "      <td>26.8</td>\n",
       "    </tr>\n",
       "    <tr>\n",
       "      <th>84</th>\n",
       "      <td>85</td>\n",
       "      <td>Dale Earnhardt</td>\n",
       "      <td>USA</td>\n",
       "      <td>5</td>\n",
       "      <td>NaN</td>\n",
       "      <td>NASCAR</td>\n",
       "      <td>1998</td>\n",
       "      <td>24.1</td>\n",
       "    </tr>\n",
       "    <tr>\n",
       "      <th>85</th>\n",
       "      <td>86</td>\n",
       "      <td>Grant Hill</td>\n",
       "      <td>USA</td>\n",
       "      <td>6</td>\n",
       "      <td>NaN</td>\n",
       "      <td>Basketball</td>\n",
       "      <td>1998</td>\n",
       "      <td>21.6</td>\n",
       "    </tr>\n",
       "    <tr>\n",
       "      <th>86</th>\n",
       "      <td>87</td>\n",
       "      <td>Oscar De La Hoya</td>\n",
       "      <td>USA</td>\n",
       "      <td>7</td>\n",
       "      <td>NaN</td>\n",
       "      <td>Boxing</td>\n",
       "      <td>1998</td>\n",
       "      <td>18.5</td>\n",
       "    </tr>\n",
       "    <tr>\n",
       "      <th>87</th>\n",
       "      <td>88</td>\n",
       "      <td>Patrick Ewing</td>\n",
       "      <td>USA</td>\n",
       "      <td>8</td>\n",
       "      <td>NaN</td>\n",
       "      <td>Basketball</td>\n",
       "      <td>1998</td>\n",
       "      <td>18.3</td>\n",
       "    </tr>\n",
       "    <tr>\n",
       "      <th>88</th>\n",
       "      <td>89</td>\n",
       "      <td>Arnold Palmer</td>\n",
       "      <td>USA</td>\n",
       "      <td>9</td>\n",
       "      <td>NaN</td>\n",
       "      <td>Golf</td>\n",
       "      <td>1998</td>\n",
       "      <td>18.1</td>\n",
       "    </tr>\n",
       "    <tr>\n",
       "      <th>89</th>\n",
       "      <td>90</td>\n",
       "      <td>Gary Sheffield</td>\n",
       "      <td>USA</td>\n",
       "      <td>10</td>\n",
       "      <td>NaN</td>\n",
       "      <td>Baseball</td>\n",
       "      <td>1998</td>\n",
       "      <td>17.2</td>\n",
       "    </tr>\n",
       "    <tr>\n",
       "      <th>266</th>\n",
       "      <td>267</td>\n",
       "      <td>Andrew Luck</td>\n",
       "      <td>USA</td>\n",
       "      <td>6</td>\n",
       "      <td>NaN</td>\n",
       "      <td>American Football</td>\n",
       "      <td>2017</td>\n",
       "      <td>50.0</td>\n",
       "    </tr>\n",
       "    <tr>\n",
       "      <th>268</th>\n",
       "      <td>269</td>\n",
       "      <td>Stephen Curry</td>\n",
       "      <td>USA</td>\n",
       "      <td>8</td>\n",
       "      <td>NaN</td>\n",
       "      <td>Basketball</td>\n",
       "      <td>2017</td>\n",
       "      <td>47.3</td>\n",
       "    </tr>\n",
       "    <tr>\n",
       "      <th>269</th>\n",
       "      <td>270</td>\n",
       "      <td>James Harden</td>\n",
       "      <td>USA</td>\n",
       "      <td>9</td>\n",
       "      <td>NaN</td>\n",
       "      <td>Basketball</td>\n",
       "      <td>2017</td>\n",
       "      <td>46.6</td>\n",
       "    </tr>\n",
       "    <tr>\n",
       "      <th>270</th>\n",
       "      <td>271</td>\n",
       "      <td>Lewis Hamilton</td>\n",
       "      <td>UK</td>\n",
       "      <td>10</td>\n",
       "      <td>NaN</td>\n",
       "      <td>auto racing</td>\n",
       "      <td>2017</td>\n",
       "      <td>46.0</td>\n",
       "    </tr>\n",
       "  </tbody>\n",
       "</table>\n",
       "</div>"
      ],
      "text/plain": [
       "     S.NO                Name Nationality  Current Rank Previous Year Rank  \\\n",
       "0       1          Mike Tyson         USA             1                NaN   \n",
       "1       2      Buster Douglas         USA             2                NaN   \n",
       "2       3   Sugar Ray Leonard         USA             3                NaN   \n",
       "3       4        Ayrton Senna      Brazil             4                NaN   \n",
       "4       5         Alain Prost      France             5                NaN   \n",
       "5       6       Jack Nicklaus         USA             6                NaN   \n",
       "6       7         Greg Norman   Australia             7                NaN   \n",
       "7       8      Michael Jordan         USA             8                NaN   \n",
       "8       9       Arnold Palmer         USA             8                NaN   \n",
       "9      10   Evander Holyfield         USA             8                NaN   \n",
       "80     81      Michael Jordan         USA             1                NaN   \n",
       "81     82  Michael Schumacher     Germany             2                NaN   \n",
       "82     83      Sergei Federov      Russia             3                NaN   \n",
       "83     84         Tiger Woods         USA             4                NaN   \n",
       "84     85      Dale Earnhardt         USA             5                NaN   \n",
       "85     86          Grant Hill         USA             6                NaN   \n",
       "86     87    Oscar De La Hoya         USA             7                NaN   \n",
       "87     88       Patrick Ewing         USA             8                NaN   \n",
       "88     89       Arnold Palmer         USA             9                NaN   \n",
       "89     90      Gary Sheffield         USA            10                NaN   \n",
       "266   267         Andrew Luck         USA             6                NaN   \n",
       "268   269       Stephen Curry         USA             8                NaN   \n",
       "269   270        James Harden         USA             9                NaN   \n",
       "270   271      Lewis Hamilton          UK            10                NaN   \n",
       "\n",
       "                 Sport  Year  earnings ($ million)  \n",
       "0               boxing  1990                  28.6  \n",
       "1               boxing  1990                  26.0  \n",
       "2               boxing  1990                  13.0  \n",
       "3          auto racing  1990                  10.0  \n",
       "4          auto racing  1990                   9.0  \n",
       "5                 golf  1990                   8.6  \n",
       "6                 golf  1990                   8.5  \n",
       "7           basketball  1990                   8.1  \n",
       "8                 golf  1990                   8.1  \n",
       "9               boxing  1990                   8.1  \n",
       "80          Basketball  1998                  69.0  \n",
       "81      F1 Motorsports  1998                  38.0  \n",
       "82          Ice Hockey  1998                  29.8  \n",
       "83                Golf  1998                  26.8  \n",
       "84              NASCAR  1998                  24.1  \n",
       "85          Basketball  1998                  21.6  \n",
       "86              Boxing  1998                  18.5  \n",
       "87          Basketball  1998                  18.3  \n",
       "88                Golf  1998                  18.1  \n",
       "89            Baseball  1998                  17.2  \n",
       "266  American Football  2017                  50.0  \n",
       "268         Basketball  2017                  47.3  \n",
       "269         Basketball  2017                  46.6  \n",
       "270        auto racing  2017                  46.0  "
      ]
     },
     "execution_count": 8,
     "metadata": {},
     "output_type": "execute_result"
    }
   ],
   "source": [
    "#Display all rows with NaN values\n",
    "dataframe[dataframe.isna().any(axis=1)]"
   ]
  },
  {
   "cell_type": "markdown",
   "id": "df0e086e-947c-416b-9f0d-38b06ec2d793",
   "metadata": {},
   "source": [
    "The 'Previous Year Rank' column is not pertinent to the analysis of the highest-paid athletes, so it can be safely removed to streamline the dataset."
   ]
  },
  {
   "cell_type": "code",
   "execution_count": 9,
   "id": "27475d0a-05bd-42ef-b4b6-3ecc9f85eba9",
   "metadata": {},
   "outputs": [],
   "source": [
    "#We delete the columns \n",
    "dataframe.drop(\"Previous Year Rank\", axis=1, inplace=True)"
   ]
  },
  {
   "cell_type": "code",
   "execution_count": 10,
   "id": "bcafc14c-e512-4a2e-8de6-c598437cbc06",
   "metadata": {},
   "outputs": [
    {
     "data": {
      "text/plain": [
       "Index(['S.NO', 'Name', 'Nationality', 'Current Rank', 'Sport', 'Year',\n",
       "       'earnings ($ million)'],\n",
       "      dtype='object')"
      ]
     },
     "execution_count": 10,
     "metadata": {},
     "output_type": "execute_result"
    }
   ],
   "source": [
    "dataframe.columns"
   ]
  },
  {
   "cell_type": "markdown",
   "id": "3762f4e6-2d52-4d2a-a5d4-9fd23bd0fbff",
   "metadata": {},
   "source": [
    "### Data Type Correction"
   ]
  },
  {
   "cell_type": "code",
   "execution_count": 11,
   "id": "49c2aa8e-6d22-44ff-9c90-d125fe074361",
   "metadata": {},
   "outputs": [
    {
     "data": {
      "text/plain": [
       "S.NO                      int64\n",
       "Name                     object\n",
       "Nationality              object\n",
       "Current Rank              int64\n",
       "Sport                    object\n",
       "Year                      int64\n",
       "earnings ($ million)    float64\n",
       "dtype: object"
      ]
     },
     "execution_count": 11,
     "metadata": {},
     "output_type": "execute_result"
    }
   ],
   "source": [
    "#Display all columns types\n",
    "dataframe.dtypes"
   ]
  },
  {
   "cell_type": "code",
   "execution_count": 12,
   "id": "69e9135f-cfb4-44ea-90a0-c88067a44a7b",
   "metadata": {},
   "outputs": [
    {
     "data": {
      "text/plain": [
       "16988"
      ]
     },
     "execution_count": 12,
     "metadata": {},
     "output_type": "execute_result"
    }
   ],
   "source": [
    "#Display the memory usage\n",
    "dataframe.memory_usage().sum()"
   ]
  },
  {
   "cell_type": "code",
   "execution_count": 13,
   "id": "158785c7-fea1-4454-95d4-0be210409e1b",
   "metadata": {},
   "outputs": [],
   "source": [
    "#Transform columns to date types\n",
    "dataframe[\"Year\"] = pd.to_datetime(dataframe['Year'], format='%Y')"
   ]
  },
  {
   "cell_type": "markdown",
   "id": "740dbfca-1840-4734-b4e9-27b726374be9",
   "metadata": {},
   "source": [
    "### Outlier Detection"
   ]
  },
  {
   "cell_type": "code",
   "execution_count": 14,
   "id": "2032bd9c-100a-4e8b-be13-5685afbc839c",
   "metadata": {},
   "outputs": [
    {
     "data": {
      "image/png": "[encoded data removed]",
      "text/plain": [
       "<Figure size 600x500 with 1 Axes>"
      ]
     },
     "metadata": {},
     "output_type": "display_data"
    }
   ],
   "source": [
    "#Create a boxplot to visualize outliers in numeric columns.\n",
    "plt.figure(figsize=(6, 5))  # Ajustez la hauteur ici\n",
    "sns.boxplot(data=dataframe)\n",
    "plt.title(\"Outlier Detection\")\n",
    "plt.show()"
   ]
  },
  {
   "cell_type": "markdown",
   "id": "a9aca12c-9a15-4d63-b804-e05ea05674eb",
   "metadata": {},
   "source": [
    "Even if the current rankings don't display well in the boxplot, we can only see outliers in the earnings. Let's refine the analysis a bit to determine whether the data remains consistent or if there are errors."
   ]
  },
  {
   "cell_type": "code",
   "execution_count": 15,
   "id": "1b634981-749a-4efe-8aed-1118bf0c0783",
   "metadata": {},
   "outputs": [],
   "source": [
    "#Calculate IQR "
   ]
  },
  {
   "cell_type": "code",
   "execution_count": 16,
   "id": "6ec941ae-ceec-4f8e-850b-f69b0187c02a",
   "metadata": {},
   "outputs": [],
   "source": [
    "Q3 = dataframe['earnings ($ million)'].quantile(0.75)\n",
    "Q1 = dataframe['earnings ($ million)'].quantile(0.25)\n",
    "IQR = Q3 - Q1"
   ]
  },
  {
   "cell_type": "code",
   "execution_count": 17,
   "id": "73676a87-0a4e-420e-a1ed-811fd2823f78",
   "metadata": {},
   "outputs": [],
   "source": [
    "upper_outliers = Q3 + 1.5 * IQR"
   ]
  },
  {
   "cell_type": "code",
   "execution_count": 18,
   "id": "736a2929-fa56-4eba-a83d-e2b0b4544518",
   "metadata": {},
   "outputs": [],
   "source": [
    "#Display upper outlier range\n",
    "outliers_earnings = dataframe[dataframe['earnings ($ million)'] > upper_outliers]"
   ]
  },
  {
   "cell_type": "code",
   "execution_count": 19,
   "id": "729f80e1-3fac-4f07-a71e-ed64f4a15fff",
   "metadata": {},
   "outputs": [
    {
     "data": {
      "text/html": [
       "<div>\n",
       "<style scoped>\n",
       "    .dataframe tbody tr th:only-of-type {\n",
       "        vertical-align: middle;\n",
       "    }\n",
       "\n",
       "    .dataframe tbody tr th {\n",
       "        vertical-align: top;\n",
       "    }\n",
       "\n",
       "    .dataframe thead th {\n",
       "        text-align: right;\n",
       "    }\n",
       "</style>\n",
       "<table border=\"1\" class=\"dataframe\">\n",
       "  <thead>\n",
       "    <tr style=\"text-align: right;\">\n",
       "      <th></th>\n",
       "      <th>S.NO</th>\n",
       "      <th>Name</th>\n",
       "      <th>Nationality</th>\n",
       "      <th>Current Rank</th>\n",
       "      <th>Sport</th>\n",
       "      <th>Year</th>\n",
       "      <th>earnings ($ million)</th>\n",
       "    </tr>\n",
       "  </thead>\n",
       "  <tbody>\n",
       "    <tr>\n",
       "      <th>171</th>\n",
       "      <td>172</td>\n",
       "      <td>Tiger Woods</td>\n",
       "      <td>USA</td>\n",
       "      <td>1</td>\n",
       "      <td>golf</td>\n",
       "      <td>2008-01-01</td>\n",
       "      <td>115.0</td>\n",
       "    </tr>\n",
       "    <tr>\n",
       "      <th>241</th>\n",
       "      <td>242</td>\n",
       "      <td>Floyd Mayweather</td>\n",
       "      <td>USA</td>\n",
       "      <td>1</td>\n",
       "      <td>Boxing</td>\n",
       "      <td>2015-01-01</td>\n",
       "      <td>300.0</td>\n",
       "    </tr>\n",
       "    <tr>\n",
       "      <th>242</th>\n",
       "      <td>243</td>\n",
       "      <td>Manny Pacquiao</td>\n",
       "      <td>Philippines</td>\n",
       "      <td>2</td>\n",
       "      <td>Boxing</td>\n",
       "      <td>2015-01-01</td>\n",
       "      <td>160.0</td>\n",
       "    </tr>\n",
       "    <tr>\n",
       "      <th>271</th>\n",
       "      <td>272</td>\n",
       "      <td>Floyd Mayweather</td>\n",
       "      <td>USA</td>\n",
       "      <td>1</td>\n",
       "      <td>Boxing</td>\n",
       "      <td>2018-01-01</td>\n",
       "      <td>285.0</td>\n",
       "    </tr>\n",
       "    <tr>\n",
       "      <th>281</th>\n",
       "      <td>282</td>\n",
       "      <td>Lionel Messi</td>\n",
       "      <td>Argentina</td>\n",
       "      <td>1</td>\n",
       "      <td>Soccer</td>\n",
       "      <td>2019-01-01</td>\n",
       "      <td>127.0</td>\n",
       "    </tr>\n",
       "  </tbody>\n",
       "</table>\n",
       "</div>"
      ],
      "text/plain": [
       "     S.NO              Name  Nationality  Current Rank   Sport       Year  \\\n",
       "171   172       Tiger Woods          USA             1    golf 2008-01-01   \n",
       "241   242  Floyd Mayweather          USA             1  Boxing 2015-01-01   \n",
       "242   243    Manny Pacquiao  Philippines             2  Boxing 2015-01-01   \n",
       "271   272  Floyd Mayweather          USA             1  Boxing 2018-01-01   \n",
       "281   282      Lionel Messi    Argentina             1  Soccer 2019-01-01   \n",
       "\n",
       "     earnings ($ million)  \n",
       "171                 115.0  \n",
       "241                 300.0  \n",
       "242                 160.0  \n",
       "271                 285.0  \n",
       "281                 127.0  "
      ]
     },
     "execution_count": 19,
     "metadata": {},
     "output_type": "execute_result"
    }
   ],
   "source": [
    "outliers_earnings"
   ]
  },
  {
   "cell_type": "markdown",
   "id": "fbfa4a1f-a670-48e7-b50d-f5d4d7c90b38",
   "metadata": {},
   "source": [
    "So we can see that there is no error; these people earn this amount of money, so we can keep this row in our dataset."
   ]
  },
  {
   "cell_type": "markdown",
   "id": "541cf3e5-19ba-4c50-a0f2-3443b7be14a6",
   "metadata": {},
   "source": [
    "### Remove Duplicates"
   ]
  },
  {
   "cell_type": "code",
   "execution_count": 20,
   "id": "d1a78776-c78f-48bc-9adf-22f50ef7cb68",
   "metadata": {},
   "outputs": [],
   "source": [
    "#Display duplicates rox\n",
    "duplicates = dataframe[dataframe.duplicated(subset='S.NO', keep=False)]"
   ]
  },
  {
   "cell_type": "code",
   "execution_count": 21,
   "id": "e1c2b838-158a-4478-8737-a9e07f5f3c4a",
   "metadata": {},
   "outputs": [
    {
     "data": {
      "text/html": [
       "<div>\n",
       "<style scoped>\n",
       "    .dataframe tbody tr th:only-of-type {\n",
       "        vertical-align: middle;\n",
       "    }\n",
       "\n",
       "    .dataframe tbody tr th {\n",
       "        vertical-align: top;\n",
       "    }\n",
       "\n",
       "    .dataframe thead th {\n",
       "        text-align: right;\n",
       "    }\n",
       "</style>\n",
       "<table border=\"1\" class=\"dataframe\">\n",
       "  <thead>\n",
       "    <tr style=\"text-align: right;\">\n",
       "      <th></th>\n",
       "      <th>S.NO</th>\n",
       "      <th>Name</th>\n",
       "      <th>Nationality</th>\n",
       "      <th>Current Rank</th>\n",
       "      <th>Sport</th>\n",
       "      <th>Year</th>\n",
       "      <th>earnings ($ million)</th>\n",
       "    </tr>\n",
       "  </thead>\n",
       "  <tbody>\n",
       "  </tbody>\n",
       "</table>\n",
       "</div>"
      ],
      "text/plain": [
       "Empty DataFrame\n",
       "Columns: [S.NO, Name, Nationality, Current Rank, Sport, Year, earnings ($ million)]\n",
       "Index: []"
      ]
     },
     "execution_count": 21,
     "metadata": {},
     "output_type": "execute_result"
    }
   ],
   "source": [
    "duplicates"
   ]
  },
  {
   "cell_type": "markdown",
   "id": "c5a3e2a4-8774-416b-892b-a72780805058",
   "metadata": {},
   "source": [
    "There are no duplicate rows in the dataset."
   ]
  },
  {
   "cell_type": "markdown",
   "id": "5d90d4a4-2747-46c9-922f-6c644badf422",
   "metadata": {},
   "source": [
    "## 2. Exploratory Data Analysis (EDA)"
   ]
  },
  {
   "cell_type": "markdown",
   "id": "11b7bd9d-3fe3-4ed4-a977-145645972449",
   "metadata": {},
   "source": [
    "## Project Objective\n",
    "\n",
    "The aim of this project is to analyze the data on the highest-paid athletes according to Forbes from 1990 to 2020. The analysis will address the following key questions:\n",
    "\n",
    "---\n",
    "\n",
    "### 1. Top 5 Highest Paid Athletes of All Time\n",
    "We will identify the five athletes who have accumulated the highest earnings.\n",
    "\n",
    "---\n",
    "\n",
    "### 2. Top 5 Sports with the Highest Earnings\n",
    "Which five sports generate the most revenue for their athletes?\n",
    "\n",
    "---\n",
    "\n",
    "### 3. Top 5 Nationalities with the Highest Earnings\n",
    "What are the fivetop_paid_athletes = earnings_by_athlete.nlargest(3, 'earnings ($ million)')◊ nationalities that dominate the rankings in terms of athlete earnings?\n",
    "\n",
    "---\n",
    "\n",
    "### 4. The Year with the Highest Earnings\n",
    "Which year saw the most highest earnings?\n"
   ]
  },
  {
   "cell_type": "code",
   "execution_count": 22,
   "id": "12c8cf3e-a3d6-4926-afc3-6cd55ed0cc56",
   "metadata": {},
   "outputs": [
    {
     "data": {
      "text/html": [
       "<div>\n",
       "<style scoped>\n",
       "    .dataframe tbody tr th:only-of-type {\n",
       "        vertical-align: middle;\n",
       "    }\n",
       "\n",
       "    .dataframe tbody tr th {\n",
       "        vertical-align: top;\n",
       "    }\n",
       "\n",
       "    .dataframe thead th {\n",
       "        text-align: right;\n",
       "    }\n",
       "</style>\n",
       "<table border=\"1\" class=\"dataframe\">\n",
       "  <thead>\n",
       "    <tr style=\"text-align: right;\">\n",
       "      <th></th>\n",
       "      <th>S.NO</th>\n",
       "      <th>Current Rank</th>\n",
       "      <th>Year</th>\n",
       "      <th>earnings ($ million)</th>\n",
       "    </tr>\n",
       "  </thead>\n",
       "  <tbody>\n",
       "    <tr>\n",
       "      <th>count</th>\n",
       "      <td>301.000000</td>\n",
       "      <td>301.000000</td>\n",
       "      <td>301</td>\n",
       "      <td>301.000000</td>\n",
       "    </tr>\n",
       "    <tr>\n",
       "      <th>mean</th>\n",
       "      <td>151.000000</td>\n",
       "      <td>5.448505</td>\n",
       "      <td>2005-02-14 11:57:36.478405376</td>\n",
       "      <td>45.516279</td>\n",
       "    </tr>\n",
       "    <tr>\n",
       "      <th>min</th>\n",
       "      <td>1.000000</td>\n",
       "      <td>1.000000</td>\n",
       "      <td>1990-01-01 00:00:00</td>\n",
       "      <td>8.100000</td>\n",
       "    </tr>\n",
       "    <tr>\n",
       "      <th>25%</th>\n",
       "      <td>76.000000</td>\n",
       "      <td>3.000000</td>\n",
       "      <td>1997-01-01 00:00:00</td>\n",
       "      <td>24.000000</td>\n",
       "    </tr>\n",
       "    <tr>\n",
       "      <th>50%</th>\n",
       "      <td>151.000000</td>\n",
       "      <td>5.000000</td>\n",
       "      <td>2005-01-01 00:00:00</td>\n",
       "      <td>39.000000</td>\n",
       "    </tr>\n",
       "    <tr>\n",
       "      <th>75%</th>\n",
       "      <td>226.000000</td>\n",
       "      <td>8.000000</td>\n",
       "      <td>2013-01-01 00:00:00</td>\n",
       "      <td>59.400000</td>\n",
       "    </tr>\n",
       "    <tr>\n",
       "      <th>max</th>\n",
       "      <td>301.000000</td>\n",
       "      <td>10.000000</td>\n",
       "      <td>2020-01-01 00:00:00</td>\n",
       "      <td>300.000000</td>\n",
       "    </tr>\n",
       "    <tr>\n",
       "      <th>std</th>\n",
       "      <td>87.035433</td>\n",
       "      <td>2.850995</td>\n",
       "      <td>NaN</td>\n",
       "      <td>33.525337</td>\n",
       "    </tr>\n",
       "  </tbody>\n",
       "</table>\n",
       "</div>"
      ],
      "text/plain": [
       "             S.NO  Current Rank                           Year  \\\n",
       "count  301.000000    301.000000                            301   \n",
       "mean   151.000000      5.448505  2005-02-14 11:57:36.478405376   \n",
       "min      1.000000      1.000000            1990-01-01 00:00:00   \n",
       "25%     76.000000      3.000000            1997-01-01 00:00:00   \n",
       "50%    151.000000      5.000000            2005-01-01 00:00:00   \n",
       "75%    226.000000      8.000000            2013-01-01 00:00:00   \n",
       "max    301.000000     10.000000            2020-01-01 00:00:00   \n",
       "std     87.035433      2.850995                            NaN   \n",
       "\n",
       "       earnings ($ million)  \n",
       "count            301.000000  \n",
       "mean              45.516279  \n",
       "min                8.100000  \n",
       "25%               24.000000  \n",
       "50%               39.000000  \n",
       "75%               59.400000  \n",
       "max              300.000000  \n",
       "std               33.525337  "
      ]
     },
     "execution_count": 22,
     "metadata": {},
     "output_type": "execute_result"
    }
   ],
   "source": [
    "# Display summary statistics\n",
    "dataframe.describe()"
   ]
  },
  {
   "cell_type": "markdown",
   "id": "f24a1f83-4b94-4a68-a5f7-a212ed54b79b",
   "metadata": {},
   "source": [
    "### 1.Top 5 Highest Paid Athletes of All Time"
   ]
  },
  {
   "cell_type": "code",
   "execution_count": 23,
   "id": "33250795-3789-425f-8461-6830578bcc8b",
   "metadata": {},
   "outputs": [],
   "source": [
    "# Display the top 5 highest paid athletes\n",
    "earnings_by_athlete = dataframe.groupby('Name')['earnings ($ million)'].sum().reset_index()"
   ]
  },
  {
   "cell_type": "code",
   "execution_count": 24,
   "id": "a3c52e1b-826f-4014-972e-801e0bed89dc",
   "metadata": {},
   "outputs": [],
   "source": [
    "top5_paid_athletes = earnings_by_athlete.nlargest(5, 'earnings ($ million)')"
   ]
  },
  {
   "cell_type": "code",
   "execution_count": 25,
   "id": "45bbcc20-d4de-4443-8f8d-8e229963caf4",
   "metadata": {},
   "outputs": [
    {
     "data": {
      "text/html": [
       "<div>\n",
       "<style scoped>\n",
       "    .dataframe tbody tr th:only-of-type {\n",
       "        vertical-align: middle;\n",
       "    }\n",
       "\n",
       "    .dataframe tbody tr th {\n",
       "        vertical-align: top;\n",
       "    }\n",
       "\n",
       "    .dataframe thead th {\n",
       "        text-align: right;\n",
       "    }\n",
       "</style>\n",
       "<table border=\"1\" class=\"dataframe\">\n",
       "  <thead>\n",
       "    <tr style=\"text-align: right;\">\n",
       "      <th></th>\n",
       "      <th>index</th>\n",
       "      <th>Name</th>\n",
       "      <th>earnings ($ million)</th>\n",
       "    </tr>\n",
       "  </thead>\n",
       "  <tbody>\n",
       "    <tr>\n",
       "      <th>0</th>\n",
       "      <td>78</td>\n",
       "      <td>Tiger Woods</td>\n",
       "      <td>1373.8</td>\n",
       "    </tr>\n",
       "    <tr>\n",
       "      <th>1</th>\n",
       "      <td>45</td>\n",
       "      <td>LeBron James</td>\n",
       "      <td>844.8</td>\n",
       "    </tr>\n",
       "    <tr>\n",
       "      <th>2</th>\n",
       "      <td>25</td>\n",
       "      <td>Floyd Mayweather</td>\n",
       "      <td>840.0</td>\n",
       "    </tr>\n",
       "    <tr>\n",
       "      <th>3</th>\n",
       "      <td>14</td>\n",
       "      <td>Cristiano Ronaldo</td>\n",
       "      <td>787.1</td>\n",
       "    </tr>\n",
       "    <tr>\n",
       "      <th>4</th>\n",
       "      <td>68</td>\n",
       "      <td>Roger Federer</td>\n",
       "      <td>781.1</td>\n",
       "    </tr>\n",
       "  </tbody>\n",
       "</table>\n",
       "</div>"
      ],
      "text/plain": [
       "   index               Name  earnings ($ million)\n",
       "0     78        Tiger Woods                1373.8\n",
       "1     45       LeBron James                 844.8\n",
       "2     25   Floyd Mayweather                 840.0\n",
       "3     14  Cristiano Ronaldo                 787.1\n",
       "4     68      Roger Federer                 781.1"
      ]
     },
     "execution_count": 25,
     "metadata": {},
     "output_type": "execute_result"
    }
   ],
   "source": [
    "top5_paid_athletes.reset_index()"
   ]
  },
  {
   "cell_type": "code",
   "execution_count": 26,
   "id": "e6909788-d82f-4dd2-9622-0bfb6903b075",
   "metadata": {},
   "outputs": [
    {
     "data": {
      "text/plain": [
       "<Axes: >"
      ]
     },
     "execution_count": 26,
     "metadata": {},
     "output_type": "execute_result"
    },
    {
     "data": {
      "image/png": "[encoded data removed]",
      "text/plain": [
       "<Figure size 640x480 with 1 Axes>"
      ]
     },
     "metadata": {},
     "output_type": "display_data"
    }
   ],
   "source": [
    "sns.boxplot(data=top5_paid_athletes)"
   ]
  },
  {
   "cell_type": "markdown",
   "id": "d8beae17-54f0-49e7-b4dd-20053a767d89",
   "metadata": {},
   "source": [
    "If we look at the box plot, we can see that Tiger Woods' earnings are considered an outlier."
   ]
  },
  {
   "cell_type": "code",
   "execution_count": 27,
   "id": "cd6b5c72-cae5-4270-84ce-6401a8c6842a",
   "metadata": {},
   "outputs": [
    {
     "data": {
      "image/png": "[encoded data removed]",
      "text/plain": [
       "<Figure size 800x600 with 1 Axes>"
      ]
     },
     "metadata": {},
     "output_type": "display_data"
    }
   ],
   "source": [
    "plt.figure(figsize=(8, 6))\n",
    "bar_plot = sns.barplot(data=top5_paid_athletes, x=\"Name\", y=\"earnings ($ million)\")\n",
    "plt.xticks(rotation=45)\n",
    "plt.title(\"Athlete Earnings 1990 - 2020\")\n",
    "plt.xlabel(\"Athletes\")\n",
    "plt.ylabel(\"Earnings ($ million)\")\n",
    "# Annotate each bar with the value\n",
    "for p in bar_plot.patches:\n",
    "    bar_plot.annotate(f'{p.get_height():,.0f}', \n",
    "                      (p.get_x() + p.get_width() / 2., p.get_height()), \n",
    "                      ha='center', \n",
    "                      va='bottom', \n",
    "                      fontsize=10, \n",
    "                      color='black', \n",
    "                      xytext=(0, 5),  # Offset text slightly above the bar\n",
    "                      textcoords='offset points')\n",
    "\n"
   ]
  },
  {
   "cell_type": "markdown",
   "id": "61150b7c-97fa-4b18-9c7b-8d4fbfc4611f",
   "metadata": {},
   "source": [
    "### 2. Top 5 Sports with the Highest Earnings"
   ]
  },
  {
   "cell_type": "code",
   "execution_count": 29,
   "id": "894e7c7a-1f6e-4b65-b43a-56de4dec133f",
   "metadata": {},
   "outputs": [],
   "source": [
    "# Display the top 5 sports with highest earnings\n",
    "earnings_by_sports = dataframe.groupby('Sport')['earnings ($ million)'].sum().reset_index()"
   ]
  },
  {
   "cell_type": "code",
   "execution_count": 32,
   "id": "cc0311e6-3c9e-4f88-bdac-c19a95de7adf",
   "metadata": {},
   "outputs": [],
   "source": [
    "top5_sports_paid = earnings_by_sports.nlargest(5, 'earnings ($ million)')"
   ]
  },
  {
   "cell_type": "code",
   "execution_count": 34,
   "id": "67f7caba-8897-4922-ab78-f77e95dfb517",
   "metadata": {},
   "outputs": [
    {
     "data": {
      "text/html": [
       "<div>\n",
       "<style scoped>\n",
       "    .dataframe tbody tr th:only-of-type {\n",
       "        vertical-align: middle;\n",
       "    }\n",
       "\n",
       "    .dataframe tbody tr th {\n",
       "        vertical-align: top;\n",
       "    }\n",
       "\n",
       "    .dataframe thead th {\n",
       "        text-align: right;\n",
       "    }\n",
       "</style>\n",
       "<table border=\"1\" class=\"dataframe\">\n",
       "  <thead>\n",
       "    <tr style=\"text-align: right;\">\n",
       "      <th></th>\n",
       "      <th>index</th>\n",
       "      <th>Sport</th>\n",
       "      <th>earnings ($ million)</th>\n",
       "    </tr>\n",
       "  </thead>\n",
       "  <tbody>\n",
       "    <tr>\n",
       "      <th>0</th>\n",
       "      <td>6</td>\n",
       "      <td>Basketball</td>\n",
       "      <td>2477.5</td>\n",
       "    </tr>\n",
       "    <tr>\n",
       "      <th>1</th>\n",
       "      <td>17</td>\n",
       "      <td>Soccer</td>\n",
       "      <td>1816.0</td>\n",
       "    </tr>\n",
       "    <tr>\n",
       "      <th>2</th>\n",
       "      <td>7</td>\n",
       "      <td>Boxing</td>\n",
       "      <td>1743.2</td>\n",
       "    </tr>\n",
       "    <tr>\n",
       "      <th>3</th>\n",
       "      <td>24</td>\n",
       "      <td>golf</td>\n",
       "      <td>1086.9</td>\n",
       "    </tr>\n",
       "    <tr>\n",
       "      <th>4</th>\n",
       "      <td>10</td>\n",
       "      <td>Golf</td>\n",
       "      <td>1049.6</td>\n",
       "    </tr>\n",
       "  </tbody>\n",
       "</table>\n",
       "</div>"
      ],
      "text/plain": [
       "   index       Sport  earnings ($ million)\n",
       "0      6  Basketball                2477.5\n",
       "1     17      Soccer                1816.0\n",
       "2      7      Boxing                1743.2\n",
       "3     24        golf                1086.9\n",
       "4     10        Golf                1049.6"
      ]
     },
     "execution_count": 34,
     "metadata": {},
     "output_type": "execute_result"
    }
   ],
   "source": [
    "top5_sports_paid.reset_index()"
   ]
  },
  {
   "cell_type": "code",
   "execution_count": 38,
   "id": "97bd055b-de90-4e87-8d24-c8d46adcfdb7",
   "metadata": {},
   "outputs": [
    {
     "data": {
      "image/png": "[encoded data removed]",
      "text/plain": [
       "<Figure size 800x600 with 1 Axes>"
      ]
     },
     "metadata": {},
     "output_type": "display_data"
    }
   ],
   "source": [
    "#Plot a figure to have a better visualisations.\n",
    "plt.figure(figsize=(8, 6))\n",
    "bar_plot = sns.barplot(data=top5_sports_paid, x=\"Sport\", y=\"earnings ($ million)\")\n",
    "plt.xticks(rotation=45)\n",
    "plt.title(\"Sport Earnings 1990 - 2020\")\n",
    "plt.xlabel(\"Sports\")\n",
    "plt.ylabel(\"Earnings ($ million)\")\n",
    "# Annotate each bar with the value\n",
    "for p in bar_plot.patches:\n",
    "    bar_plot.annotate(f'{p.get_height():,.0f}', \n",
    "                      (p.get_x() + p.get_width() / 2., p.get_height()), \n",
    "                      ha='center', \n",
    "                      va='bottom', \n",
    "                      fontsize=10, \n",
    "                      color='black', \n",
    "                      xytext=(0, 5),  # Offset text slightly above the bar\n",
    "                      textcoords='offset points')\n"
   ]
  },
  {
   "cell_type": "markdown",
   "id": "da389080-c631-4f92-90e9-2f1142f1a45a",
   "metadata": {},
   "source": [
    "### 3.  Top 5 Nationalities with the Highest Earnings"
   ]
  },
  {
   "cell_type": "code",
   "execution_count": 40,
   "id": "c55384b0-0cbe-42ff-93ff-8d4e7a2bfcb6",
   "metadata": {},
   "outputs": [
    {
     "data": {
      "text/html": [
       "<div>\n",
       "<style scoped>\n",
       "    .dataframe tbody tr th:only-of-type {\n",
       "        vertical-align: middle;\n",
       "    }\n",
       "\n",
       "    .dataframe tbody tr th {\n",
       "        vertical-align: top;\n",
       "    }\n",
       "\n",
       "    .dataframe thead th {\n",
       "        text-align: right;\n",
       "    }\n",
       "</style>\n",
       "<table border=\"1\" class=\"dataframe\">\n",
       "  <thead>\n",
       "    <tr style=\"text-align: right;\">\n",
       "      <th></th>\n",
       "      <th>index</th>\n",
       "      <th>Nationality</th>\n",
       "      <th>earnings ($ million)</th>\n",
       "    </tr>\n",
       "  </thead>\n",
       "  <tbody>\n",
       "    <tr>\n",
       "      <th>0</th>\n",
       "      <td>21</td>\n",
       "      <td>USA</td>\n",
       "      <td>8786.3</td>\n",
       "    </tr>\n",
       "    <tr>\n",
       "      <th>1</th>\n",
       "      <td>15</td>\n",
       "      <td>Portugal</td>\n",
       "      <td>787.1</td>\n",
       "    </tr>\n",
       "    <tr>\n",
       "      <th>2</th>\n",
       "      <td>19</td>\n",
       "      <td>Switzerland</td>\n",
       "      <td>781.1</td>\n",
       "    </tr>\n",
       "    <tr>\n",
       "      <th>3</th>\n",
       "      <td>0</td>\n",
       "      <td>Argentina</td>\n",
       "      <td>715.5</td>\n",
       "    </tr>\n",
       "    <tr>\n",
       "      <th>4</th>\n",
       "      <td>9</td>\n",
       "      <td>Germany</td>\n",
       "      <td>639.0</td>\n",
       "    </tr>\n",
       "  </tbody>\n",
       "</table>\n",
       "</div>"
      ],
      "text/plain": [
       "   index  Nationality  earnings ($ million)\n",
       "0     21          USA                8786.3\n",
       "1     15     Portugal                 787.1\n",
       "2     19  Switzerland                 781.1\n",
       "3      0    Argentina                 715.5\n",
       "4      9      Germany                 639.0"
      ]
     },
     "execution_count": 40,
     "metadata": {},
     "output_type": "execute_result"
    }
   ],
   "source": [
    "# Display the top 5 sports with highest earnings\n",
    "earnings_by_nationality = dataframe.groupby('Nationality')['earnings ($ million)'].sum().reset_index()\n",
    "\n",
    "top5_Nationality = earnings_by_nationality.nlargest(5, 'earnings ($ million)')\n",
    "\n",
    "top5_Nationality.reset_index()"
   ]
  },
  {
   "cell_type": "code",
   "execution_count": 41,
   "id": "1000df64-4304-4bf7-bf96-73b9c837c902",
   "metadata": {},
   "outputs": [
    {
     "data": {
      "image/png": "[encoded data removed]",
      "text/plain": [
       "<Figure size 800x600 with 1 Axes>"
      ]
     },
     "metadata": {},
     "output_type": "display_data"
    }
   ],
   "source": [
    "#Plot a figure to have a better visualisations.\n",
    "plt.figure(figsize=(8, 6))\n",
    "bar_plot = sns.barplot(data=top5_Nationality, x=\"Nationality\", y=\"earnings ($ million)\")\n",
    "plt.xticks(rotation=45)\n",
    "plt.title(\"Nationality Earnings 1990 - 2020\")\n",
    "plt.xlabel(\"Nationality\")\n",
    "plt.ylabel(\"Earnings ($ million)\")\n",
    "# Annotate each bar with the value\n",
    "for p in bar_plot.patches:\n",
    "    bar_plot.annotate(f'{p.get_height():,.0f}', \n",
    "                      (p.get_x() + p.get_width() / 2., p.get_height()), \n",
    "                      ha='center', \n",
    "                      va='bottom', \n",
    "                      fontsize=10, \n",
    "                      color='black', \n",
    "                      xytext=(0, 5),  # Offset text slightly above the bar\n",
    "                      textcoords='offset points')\n"
   ]
  },
  {
   "cell_type": "markdown",
   "id": "328111d3-49fb-4bb2-9824-3830220b995e",
   "metadata": {},
   "source": [
    "### 4. The Year with the Highest Earnings"
   ]
  },
  {
   "cell_type": "code",
   "execution_count": 54,
   "id": "f0e1b893-fd86-49a2-8719-29b6edfcd8d8",
   "metadata": {},
   "outputs": [
    {
     "data": {
      "text/html": [
       "<div>\n",
       "<style scoped>\n",
       "    .dataframe tbody tr th:only-of-type {\n",
       "        vertical-align: middle;\n",
       "    }\n",
       "\n",
       "    .dataframe tbody tr th {\n",
       "        vertical-align: top;\n",
       "    }\n",
       "\n",
       "    .dataframe thead th {\n",
       "        text-align: right;\n",
       "    }\n",
       "</style>\n",
       "<table border=\"1\" class=\"dataframe\">\n",
       "  <thead>\n",
       "    <tr style=\"text-align: right;\">\n",
       "      <th></th>\n",
       "      <th>Year</th>\n",
       "      <th>earnings ($ million)</th>\n",
       "    </tr>\n",
       "  </thead>\n",
       "  <tbody>\n",
       "    <tr>\n",
       "      <th>0</th>\n",
       "      <td>1990-01-01</td>\n",
       "      <td>128.0</td>\n",
       "    </tr>\n",
       "    <tr>\n",
       "      <th>1</th>\n",
       "      <td>1991-01-01</td>\n",
       "      <td>183.5</td>\n",
       "    </tr>\n",
       "    <tr>\n",
       "      <th>2</th>\n",
       "      <td>1992-01-01</td>\n",
       "      <td>158.7</td>\n",
       "    </tr>\n",
       "    <tr>\n",
       "      <th>3</th>\n",
       "      <td>1993-01-01</td>\n",
       "      <td>178.3</td>\n",
       "    </tr>\n",
       "    <tr>\n",
       "      <th>4</th>\n",
       "      <td>1994-01-01</td>\n",
       "      <td>148.9</td>\n",
       "    </tr>\n",
       "    <tr>\n",
       "      <th>5</th>\n",
       "      <td>1995-01-01</td>\n",
       "      <td>229.1</td>\n",
       "    </tr>\n",
       "    <tr>\n",
       "      <th>6</th>\n",
       "      <td>1996-01-01</td>\n",
       "      <td>273.1</td>\n",
       "    </tr>\n",
       "    <tr>\n",
       "      <th>7</th>\n",
       "      <td>1997-01-01</td>\n",
       "      <td>338.1</td>\n",
       "    </tr>\n",
       "    <tr>\n",
       "      <th>8</th>\n",
       "      <td>1998-01-01</td>\n",
       "      <td>281.4</td>\n",
       "    </tr>\n",
       "    <tr>\n",
       "      <th>9</th>\n",
       "      <td>1999-01-01</td>\n",
       "      <td>357.5</td>\n",
       "    </tr>\n",
       "    <tr>\n",
       "      <th>10</th>\n",
       "      <td>2000-01-01</td>\n",
       "      <td>338.5</td>\n",
       "    </tr>\n",
       "    <tr>\n",
       "      <th>11</th>\n",
       "      <td>2002-01-01</td>\n",
       "      <td>356.0</td>\n",
       "    </tr>\n",
       "    <tr>\n",
       "      <th>12</th>\n",
       "      <td>2003-01-01</td>\n",
       "      <td>375.0</td>\n",
       "    </tr>\n",
       "    <tr>\n",
       "      <th>13</th>\n",
       "      <td>2004-01-01</td>\n",
       "      <td>407.4</td>\n",
       "    </tr>\n",
       "    <tr>\n",
       "      <th>14</th>\n",
       "      <td>2005-01-01</td>\n",
       "      <td>406.2</td>\n",
       "    </tr>\n",
       "    <tr>\n",
       "      <th>15</th>\n",
       "      <td>2006-01-01</td>\n",
       "      <td>431.0</td>\n",
       "    </tr>\n",
       "    <tr>\n",
       "      <th>16</th>\n",
       "      <td>2007-01-01</td>\n",
       "      <td>421.0</td>\n",
       "    </tr>\n",
       "    <tr>\n",
       "      <th>17</th>\n",
       "      <td>2008-01-01</td>\n",
       "      <td>483.0</td>\n",
       "    </tr>\n",
       "    <tr>\n",
       "      <th>18</th>\n",
       "      <td>2009-01-01</td>\n",
       "      <td>476.0</td>\n",
       "    </tr>\n",
       "    <tr>\n",
       "      <th>19</th>\n",
       "      <td>2010-01-01</td>\n",
       "      <td>513.7</td>\n",
       "    </tr>\n",
       "    <tr>\n",
       "      <th>20</th>\n",
       "      <td>2011-01-01</td>\n",
       "      <td>448.8</td>\n",
       "    </tr>\n",
       "    <tr>\n",
       "      <th>21</th>\n",
       "      <td>2012-01-01</td>\n",
       "      <td>543.1</td>\n",
       "    </tr>\n",
       "    <tr>\n",
       "      <th>22</th>\n",
       "      <td>2013-01-01</td>\n",
       "      <td>552.5</td>\n",
       "    </tr>\n",
       "    <tr>\n",
       "      <th>23</th>\n",
       "      <td>2014-01-01</td>\n",
       "      <td>642.4</td>\n",
       "    </tr>\n",
       "    <tr>\n",
       "      <th>24</th>\n",
       "      <td>2015-01-01</td>\n",
       "      <td>950.3</td>\n",
       "    </tr>\n",
       "    <tr>\n",
       "      <th>25</th>\n",
       "      <td>2016-01-01</td>\n",
       "      <td>635.2</td>\n",
       "    </tr>\n",
       "    <tr>\n",
       "      <th>26</th>\n",
       "      <td>2017-01-01</td>\n",
       "      <td>623.7</td>\n",
       "    </tr>\n",
       "    <tr>\n",
       "      <th>27</th>\n",
       "      <td>2018-01-01</td>\n",
       "      <td>1059.4</td>\n",
       "    </tr>\n",
       "    <tr>\n",
       "      <th>28</th>\n",
       "      <td>2019-01-01</td>\n",
       "      <td>941.4</td>\n",
       "    </tr>\n",
       "    <tr>\n",
       "      <th>29</th>\n",
       "      <td>2020-01-01</td>\n",
       "      <td>819.2</td>\n",
       "    </tr>\n",
       "  </tbody>\n",
       "</table>\n",
       "</div>"
      ],
      "text/plain": [
       "         Year  earnings ($ million)\n",
       "0  1990-01-01                 128.0\n",
       "1  1991-01-01                 183.5\n",
       "2  1992-01-01                 158.7\n",
       "3  1993-01-01                 178.3\n",
       "4  1994-01-01                 148.9\n",
       "5  1995-01-01                 229.1\n",
       "6  1996-01-01                 273.1\n",
       "7  1997-01-01                 338.1\n",
       "8  1998-01-01                 281.4\n",
       "9  1999-01-01                 357.5\n",
       "10 2000-01-01                 338.5\n",
       "11 2002-01-01                 356.0\n",
       "12 2003-01-01                 375.0\n",
       "13 2004-01-01                 407.4\n",
       "14 2005-01-01                 406.2\n",
       "15 2006-01-01                 431.0\n",
       "16 2007-01-01                 421.0\n",
       "17 2008-01-01                 483.0\n",
       "18 2009-01-01                 476.0\n",
       "19 2010-01-01                 513.7\n",
       "20 2011-01-01                 448.8\n",
       "21 2012-01-01                 543.1\n",
       "22 2013-01-01                 552.5\n",
       "23 2014-01-01                 642.4\n",
       "24 2015-01-01                 950.3\n",
       "25 2016-01-01                 635.2\n",
       "26 2017-01-01                 623.7\n",
       "27 2018-01-01                1059.4\n",
       "28 2019-01-01                 941.4\n",
       "29 2020-01-01                 819.2"
      ]
     },
     "execution_count": 54,
     "metadata": {},
     "output_type": "execute_result"
    }
   ],
   "source": [
    "top_years = dataframe.groupby('Year')['earnings ($ million)'].sum().reset_index()\n",
    "top_years"
   ]
  },
  {
   "cell_type": "code",
   "execution_count": 60,
   "id": "a0f13600-4a47-43ee-88d0-0a51bbe11cb0",
   "metadata": {},
   "outputs": [
    {
     "data": {
      "text/plain": [
       "Text(0.5, 1.0, '30 Years of Earnings Growth: 1990 to 2020')"
      ]
     },
     "execution_count": 60,
     "metadata": {},
     "output_type": "execute_result"
    },
    {
     "data": {
      "image/png": "[encoded data removed]",
      "text/plain": [
       "<Figure size 640x480 with 1 Axes>"
      ]
     },
     "metadata": {},
     "output_type": "display_data"
    }
   ],
   "source": [
    "sns.lineplot(data=top_years, x=\"Year\", y=\"earnings ($ million)\")\n",
    "plt.title(\"30 Years of Earnings Growth: 1990 to 2020\")"
   ]
  },
  {
   "cell_type": "markdown",
   "id": "b8e36051-196f-49a6-8d82-853d39fb10d5",
   "metadata": {},
   "source": [
    "We can observe a clear progression in revenues over the years."
   ]
  },
  {
   "cell_type": "code",
   "execution_count": 77,
   "id": "53b4b234-1adc-4e49-9f72-f46ca1bdfd84",
   "metadata": {},
   "outputs": [],
   "source": [
    "#Display the max earnings years\n",
    "max_earnings = top_years[\"earnings ($ million)\"].max()\n",
    "#Find the coresponding years\n",
    "year_with_max_earnings = top_years[top_years[\"earnings ($ million)\"] == max_earnings][\"Year\"].values[0]\n",
    "#Extract only year\n",
    "years_only = pd.to_datetime(year_with_max_earnings).year"
   ]
  },
  {
   "cell_type": "code",
   "execution_count": 84,
   "id": "a47942cd-960b-458c-86fe-2bccc12213fe",
   "metadata": {},
   "outputs": [
    {
     "name": "stdout",
     "output_type": "stream",
     "text": [
      "The year with the highest earnings is 2018 with 1059.4 million in generated earnings.\n"
     ]
    }
   ],
   "source": [
    "print(f\"The year with the highest earnings is {years_only} with {max_earnings} million in generated earnings.\")"
   ]
  },
  {
   "cell_type": "markdown",
   "id": "b03a48e6-8d5a-4155-beee-b794d2fdb60d",
   "metadata": {},
   "source": [
    "## Conclusion\n",
    "\n",
    "In this project, we analyzed the earnings data of the highest-paid athletes according to Forbes from 1990 to 2020. The key findings from our analysis are as follows:\n",
    "\n",
    "- **Top Highest Paid Athlete of All Time**: We identified the athlete who has accumulated the highest earnings over the years. Notably, Tiger Woods stands out as the athlete with the most significant earnings.\n",
    "\n",
    "- **Top Sport with the Highest Earnings**: The analysis revealed that basketball generates the most revenue for athletes, highlighting the sport's lucrative nature compared to others.\n",
    "\n",
    "- **Top Nationalities with the Highest Earnings**: The United States dominates the rankings with the highest earnings, showcasing the country's strong influence in the sports industry.\n",
    "\n",
    "- **The Year with the Highest Earnings**: We discovered that there has been a clear progression in athlete earnings over the years, with peaks observed at various intervals since 1990. The year that generated the most was **2018**, with earnings reaching **$1,059 million**.\n",
    "\n",
    "Overall, this analysis not only provides insights into the earnings of athletes but also emphasizes the growing financial landscape of sports. The trends observed reflect changes in market dynamics, sponsorships, and athlete popularity over the past three decades.\n",
    "\n",
    "The findings underscore the significant impact of sports on the global economy and offer a compelling narrative about the evolution of athlete earnings."
   ]
  }
 ],
 "metadata": {
  "kernelspec": {
   "display_name": "Python 3 (ipykernel)",
   "language": "python",
   "name": "python3"
  },
  "language_info": {
   "codemirror_mode": {
    "name": "ipython",
    "version": 3
   },
   "file_extension": ".py",
   "mimetype": "text/x-python",
   "name": "python",
   "nbconvert_exporter": "python",
   "pygments_lexer": "ipython3",
   "version": "3.12.3"
  }
 },
 "nbformat": 4,
 "nbformat_minor": 5
}
